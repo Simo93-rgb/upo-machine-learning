{
 "cells": [
  {
   "cell_type": "code",
   "execution_count": 5,
   "metadata": {},
   "outputs": [
    {
     "name": "stdout",
     "output_type": "stream",
     "text": [
      "The autoreload extension is already loaded. To reload it, use:\n",
      "  %reload_ext autoreload\n"
     ]
    }
   ],
   "source": [
    "%load_ext autoreload\n",
    "%autoreload 2\n",
    "\n",
    "import os\n",
    "import sys\n",
    "\n",
    "\n",
    "from data.create_image_lists import create_image_lists_with_subsampling"
   ]
  },
  {
   "cell_type": "code",
   "execution_count": 9,
   "metadata": {},
   "outputs": [
    {
     "name": "stdout",
     "output_type": "stream",
     "text": [
      "The autoreload extension is already loaded. To reload it, use:\n",
      "  %reload_ext autoreload\n",
      "\n",
      "🚀 Starting image list creation for 'val' split with subsampling...\n",
      "📁 Base directory: /mnt/e/objects365\n",
      "💾 Output file: /mnt/e/objects365/val_subsampling.txt\n",
      "\n",
      "📋 Step 1/4: Discovering and reading labels...\n",
      "🔍 Scanning labels in: /mnt/e/objects365/labels/val\n",
      "📂 Found 80 patch directories\n",
      "⚙️  Processing with 22 workers...\n"
     ]
    },
    {
     "name": "stderr",
     "output_type": "stream",
     "text": [
      "🔄 Processing patches: 100%|██████████| 80/80 [01:37<00:00,  1.21s/patch, TXT files=74218, Images found=74218, Classes=365]\n"
     ]
    },
    {
     "name": "stdout",
     "output_type": "stream",
     "text": [
      "\n",
      "✅ Finished collecting all labels!\n",
      "📊 Summary:\n",
      "   • Processed patches: 80/80\n",
      "   • Total label files: 74218\n",
      "   • Total images found: 74218\n",
      "   • Total classes discovered: 365\n",
      "\n",
      "📋 Step 2/4: Performing subsampling...\n",
      "\n",
      "🎯 Starting subsampling...\n",
      "📈 Dataset overview:\n",
      "   • Total classes: 365\n",
      "   • Total images: 1150751\n",
      "   • Top 10 classes by count: {1: 74515, 13: 32121, 16: 26650, 9: 22521, 11: 21104, 104: 18317, 27: 17240, 10: 17146, 21: 16662, 108: 16359}\n",
      "🎯 Targeting 1000 samples per class...\n"
     ]
    },
    {
     "name": "stderr",
     "output_type": "stream",
     "text": [
      "🔄 Subsampling classes: 100%|██████████| 365/365 [00:00<00:00, 1181.25class/s, Selected images=69161]\n"
     ]
    },
    {
     "name": "stdout",
     "output_type": "stream",
     "text": [
      "\n",
      "✅ Subsampling complete!\n",
      "📊 Results:\n",
      "   • Selected 69161 unique images\n",
      "   • Reduction: 1150751 → 69161 (6.0%)\n",
      "\n",
      "📋 Step 3/4: Saving image paths...\n",
      "💾 Writing 69161 paths to file...\n"
     ]
    },
    {
     "name": "stderr",
     "output_type": "stream",
     "text": [
      "💾 Writing paths: 100%|██████████| 69161/69161 [00:00<00:00, 493135.06path/s]\n"
     ]
    },
    {
     "name": "stdout",
     "output_type": "stream",
     "text": [
      "✅ Saved 69161 image paths to: /mnt/e/objects365/val_subsampling.txt\n",
      "\n",
      "📋 Step 4/4: Generating class statistics (optimized)...\n",
      "📊 Calculating final class distribution (optimized)...\n",
      "🔄 Building image-to-class mapping with 23 chunks...\n"
     ]
    },
    {
     "name": "stderr",
     "output_type": "stream",
     "text": [
      "🗂️  Building mapping: 100%|██████████| 23/23 [00:00<00:00, 161.17chunk/s]\n"
     ]
    },
    {
     "name": "stdout",
     "output_type": "stream",
     "text": [
      "🔢 Counting classes for 69161 selected images...\n"
     ]
    },
    {
     "name": "stderr",
     "output_type": "stream",
     "text": [
      "📊 Counting classes: 100%|██████████| 69161/69161 [00:00<00:00, 862500.66image/s]\n"
     ]
    },
    {
     "name": "stdout",
     "output_type": "stream",
     "text": [
      "✅ Saved class statistics to: /mnt/e/objects365/val_subsampling_class_stats.json\n",
      "\n",
      "🎉 Image list creation completed successfully!\n",
      "📊 Final summary:\n",
      "   • Split: val\n",
      "   • Total images selected: 69161\n",
      "   • Output file: /mnt/e/objects365/val_subsampling.txt\n"
     ]
    }
   ],
   "source": [
    "%load_ext autoreload\n",
    "%autoreload 2\n",
    "# --- Configuration ----\n",
    "source_dataset_base_path = \"/mnt/e/objects365\"\n",
    "destination = \"/mnt/e/objects365\"\n",
    "split = \"val\"\n",
    "filename = f\"{split}_subsampling.txt\"\n",
    "\n",
    "\n",
    "create_image_lists_with_subsampling(\n",
    "    base_dir=source_dataset_base_path,\n",
    "    split=split,\n",
    "    output_file=os.path.join(destination, filename),\n",
    "    target_samples_per_class=1000\n",
    ")\n"
   ]
  }
 ],
 "metadata": {
  "kernelspec": {
   "display_name": ".venv",
   "language": "python",
   "name": "python3"
  },
  "language_info": {
   "codemirror_mode": {
    "name": "ipython",
    "version": 3
   },
   "file_extension": ".py",
   "mimetype": "text/x-python",
   "name": "python",
   "nbconvert_exporter": "python",
   "pygments_lexer": "ipython3",
   "version": "3.12.3"
  }
 },
 "nbformat": 4,
 "nbformat_minor": 4
}
