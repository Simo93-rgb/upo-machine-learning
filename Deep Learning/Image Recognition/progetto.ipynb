{
 "cells": [
  {
   "cell_type": "markdown",
   "id": "2ab0e582",
   "metadata": {},
   "source": [
    "# Image Recognition"
   ]
  },
  {
   "cell_type": "markdown",
   "id": "a54d8307",
   "metadata": {},
   "source": [
    "Il progetto verrà gestito con YOLOv8 e Object365 scaricato localmente con appostito script personalizzato."
   ]
  },
  {
   "cell_type": "markdown",
   "id": "beb241d2",
   "metadata": {},
   "source": [
    "## ✅ Step 1 – Preparazione\n",
    "Assicurarsi che la libreria `ultralytics` sia installata"
   ]
  },
  {
   "cell_type": "code",
   "execution_count": null,
   "id": "ed32bf84",
   "metadata": {},
   "outputs": [],
   "source": [
    "%pip install --quiet ultralytics"
   ]
  },
  {
   "cell_type": "code",
   "execution_count": 2,
   "id": "f21e93d8",
   "metadata": {},
   "outputs": [],
   "source": [
    "base_dir = \"/mnt/d/objects365\""
   ]
  },
  {
   "cell_type": "markdown",
   "id": "2826902a",
   "metadata": {},
   "source": [
    "Il dataset scaricato non ha la cartella di test ma solo `train` e `val` che sono per appunto addestramento e validazione. Ho deciso di creare una cartella di test. "
   ]
  },
  {
   "cell_type": "code",
   "execution_count": null,
   "id": "711fe374",
   "metadata": {},
   "outputs": [],
   "source": [
    "from data.create_test_samples import create_test_set\n",
    "\n",
    "create_test_set(base_dir, test_size_ratio=0.1, num_threads=8)"
   ]
  },
  {
   "cell_type": "markdown",
   "id": "edba814d",
   "metadata": {},
   "source": [
    "Siccome YOLO ha bisogno di un file di configurazione in formato YAML (Yet Another Markup Language) e siccome il dataset è diviso in patch c'è bisogno di dare le coordinate delle patch a YOLO e per farlo torna comodo un file TXT con tutti i percorsi."
   ]
  },
  {
   "cell_type": "code",
   "execution_count": null,
   "id": "c94c837d",
   "metadata": {},
   "outputs": [],
   "source": [
    "from data.create_image_lists import create_image_list\n",
    "\n",
    "\n",
    "# Crea gli elenchi delle immagini per il training, la validazione e il test\n",
    "threads = 16\n",
    "create_image_list(base_dir, \"train\", f\"{base_dir}/train_images.txt\", num_threads=threads)\n",
    "create_image_list(base_dir, \"val\", f\"{base_dir}/val_images.txt\", num_threads=threads)\n",
    "create_image_list(base_dir, \"test\", f\"{base_dir}/test_images.txt\", num_threads=threads)"
   ]
  },
  {
   "cell_type": "markdown",
   "id": "9dbaaefd",
   "metadata": {},
   "source": [
    "Qui un estratto del file YAML:\n",
    "```yaml\n",
    "path: /mnt/d/objects365\n",
    "train: train_images.txt  # File con elenco immagini di training\n",
    "val: val_images.txt      # File con elenco immagini di validation\n",
    "test: test_images.txt    # File con elenco immagini di test\n",
    "```"
   ]
  },
  {
   "cell_type": "markdown",
   "id": "87334326",
   "metadata": {},
   "source": [
    "Siccome mi sono accorto che nelle etichette spesso compare la classe 365 che non è mappata nel file YAML e siccome YOLO non ha la classe `background` per identificare tutto ciò che non è mappabile dal modello, ho deciso di mappare la classe 365 delle etichette come classe `Unknown`."
   ]
  },
  {
   "cell_type": "markdown",
   "id": "dcbe4997",
   "metadata": {},
   "source": [
    "```yaml\n",
    "# Classes\n",
    "names:\n",
    "  0: Person\n",
    "  1: Sneakers\n",
    "  2: Chair\n",
    "  3: Other Shoes\n",
    "  ...\n",
    "  361: Lipstick\n",
    "  362: Cosmetics Mirror\n",
    "  363: Curling\n",
    "  364: Table Tennis\n",
    "  365: Unknown\n",
    "```"
   ]
  },
  {
   "cell_type": "markdown",
   "id": "955ead24",
   "metadata": {},
   "source": [
    "Il dataset è molto grande, iniziamo con un subsampling che poi tratteremo come sopra ossia creando un TXT con le coordinate delle immagini e delle labels. Qui sotto un estratto:"
   ]
  },
  {
   "cell_type": "code",
   "execution_count": null,
   "id": "fe382eeb",
   "metadata": {},
   "outputs": [],
   "source": [
    "from data.subsampling import create_subsample_image_list\n",
    "\n",
    "# Esegui la creazione del subsample\n",
    "train_patches = 6\n",
    "output_dir = f\"/mnt/d/objects365_subsample_{train_patches}\"  # Percorso per salvare i file di coordinate\n",
    "create_subsample_image_list(base_dir, output_dir, train_patches=train_patches, val_patches=1)"
   ]
  },
  {
   "cell_type": "markdown",
   "id": "3cbbae68",
   "metadata": {},
   "source": [
    "## ✅ Step 2 – Addestramento del Modello"
   ]
  },
  {
   "cell_type": "markdown",
   "id": "10d825d0",
   "metadata": {},
   "source": [
    "Il modello di YOLO scelto sarà un *pretrained* su cui verranno impostati parametri nel tentativo di ottimizzare fin da subito.\n"
   ]
  },
  {
   "cell_type": "code",
   "execution_count": 3,
   "id": "fc51073a",
   "metadata": {},
   "outputs": [
    {
     "name": "stdout",
     "output_type": "stream",
     "text": [
      "Downloading https://github.com/ultralytics/assets/releases/download/v8.3.0/yolo11s.pt to 'yolo11s.pt'...\n"
     ]
    },
    {
     "name": "stderr",
     "output_type": "stream",
     "text": [
      "100%|██████████| 18.4M/18.4M [00:00<00:00, 68.8MB/s]\n"
     ]
    }
   ],
   "source": [
    "from ultralytics import YOLO\n",
    "\n",
    "# Load a model\n",
    "model = YOLO(\"yolo11s.pt\")  # load a pretrained model (recommended for training)"
   ]
  },
  {
   "cell_type": "markdown",
   "id": "22716c6e",
   "metadata": {},
   "source": [
    "## Augmentation Parameters\n",
    "Gli aumenti dei dati sono tecniche utilizzate per migliorare la robustezza e la generalizzazione del modello. Ecco i parametri configurabili:\n",
    "\n",
    "- **hsv_h (Hue)**: Regola la tonalità dei colori per rendere il modello invariante alle variazioni di colore.\n",
    "- **hsv_s (Saturation)**: Modifica la saturazione per simulare diverse condizioni di illuminazione.\n",
    "- **hsv_v (Brightness)**: Cambia la luminosità per gestire immagini con diverse esposizioni.\n",
    "- **degrees**: Applica rotazioni casuali per migliorare l'invarianza al punto di vista.\n",
    "- **translate**: Introduce traslazioni casuali per rendere il modello robusto a oggetti in posizioni diverse.\n",
    "- **scale**: Ridimensiona gli oggetti per gestire variazioni di dimensioni.\n",
    "- **shear**: Applica tagli (shearing) per simulare distorsioni geometriche (impostato a 0 per evitare distorsioni estreme).\n",
    "- **fliplr**: Effettua un flip orizzontale casuale per aumentare la varietà dei dati.\n",
    "- **mosaic**: Combina più immagini in un'unica immagine per migliorare il rilevamento di piccoli oggetti e il contesto.\n",
    "- **bgr**: Scambia i canali BGR per gestire diversi formati di immagine."
   ]
  },
  {
   "cell_type": "code",
   "execution_count": 10,
   "id": "999bdd35",
   "metadata": {},
   "outputs": [],
   "source": [
    "import os\n",
    "workers = max(4, os.cpu_count() - 2)\n",
    "data = \"data/objects365_subsample.yaml\"\n",
    "train_params = {\n",
    "    \"data\":         data,                    # YAML con path /mnt/e/yolo-fast\n",
    "    \"epochs\":       100,                     # numero di epoche\n",
    "    \"patience\":     50,                      # early stopping\n",
    "    \"batch\":        -1,                      # auto batch size (~60% VRAM)\n",
    "    \"imgsz\":        640,                     # dimensione delle immagini\n",
    "    \"device\":       0,                       # GPU 0\n",
    "    \"workers\":      workers,                 # DataLoader parallelismo\n",
    "    \"cache\":        \"disk\",                  # caching su disco (/mnt/e)\n",
    "    \"save\":         True,                    # salva checkpoint e modello\n",
    "    \"save_period\":  5,                       # checkpoint ogni 5 epoche\n",
    "    \"project\":      \"runs/train\",            # cartella di uscita\n",
    "    \"name\":         \"exp_fastcache\",         # nome del run\n",
    "    \"exist_ok\":     True,                    # sovrascrivi se esiste\n",
    "    \"pretrained\":   True,                    # usa pesi pretrained\n",
    "    \"optimizer\":    \"AdamW\",                 # SGD o Adam/AdamW\n",
    "    \"amp\":          True,                    # mixed precision\n",
    "    \"rect\":         False,                   # rectangular training off\n",
    "    \"multi_scale\":  True,                    # multi-scale training on\n",
    "    \"cos_lr\":       True,                    # cosine LR scheduler\n",
    "    \"close_mosaic\": 10,                      # disabilita mosaic ultime 10 epoche\n",
    "    \"lr0\":          0.01,                    # learning rate iniziale\n",
    "    \"lrf\":          0.1,                     # final LR = lr0 * lrf\n",
    "    \"momentum\":     0.937,                   # momentum / beta1 per Adam\n",
    "    \"weight_decay\": 0.0005,                  # regularizzazione L2\n",
    "    \"warmup_epochs\":    3.0,                 # epoche warmup LR\n",
    "    \"warmup_momentum\":  0.8,                 # momentum warmup\n",
    "    \"warmup_bias_lr\":   0.1,                 # bias LR warmup\n",
    "    \"seed\":         42,                      # per riproducibilità\n",
    "    \"fraction\":     1.0,                     # usa 100% del dataset\n",
    "    \"val\":          True,                    # abilita validazione\n",
    "    \"plots\":        False                    # salva grafici di training/val\n",
    "}"
   ]
  },
  {
   "cell_type": "code",
   "execution_count": 11,
   "id": "b8dabc43",
   "metadata": {},
   "outputs": [],
   "source": [
    "# Parametri di data augmentation ottimizzati\n",
    "augmentation_params = {\n",
    "    # Colore (HSV)\n",
    "    \"hsv_h\":       0.015,   # Default: 0.015 (range 0.0–1.0) – mantiene piccole variazioni di tonalità\n",
    "    \"hsv_s\":       0.7,     # Default: 0.7   (range 0.0–1.0) – variazione consistente di saturazione\n",
    "    \"hsv_v\":       0.4,     # Default: 0.4   (range 0.0–1.0) – variazione di luminosità medio-alta\n",
    "\n",
    "    # Geometriche\n",
    "    \"degrees\":     5.0,     # Da 0.0 a 180 – rotazioni lievi per preservare orientamenti realistici\n",
    "    \"translate\":   0.1,     # Da 0.0 a 1.0   – spostamenti fino al 10% delle dimensioni d’immagine\n",
    "    \"scale\":       0.3,     # ≥ 0.0          – riduzione del range (da 0.5 a 0.3) per minor carico computazionale\n",
    "    \"shear\":       0.0,     # –180 a +180    – mantenuto a 0 per evitare distorsioni drastiche\n",
    "    \"perspective\": 0.0005,  # 0.0–0.001      – inserita una lieve prospettiva per aumentare la robustezza 3D\n",
    "\n",
    "    # Flip\n",
    "    \"flipud\":      0.0,     # 0.0–1.0 – no flip verticale (rischio di immagini “capovolte” poco realistiche)\n",
    "    \"fliplr\":      0.5,     # 0.0–1.0 – flip orizzontale con probabilità 50%\n",
    "\n",
    "    # Canale BGR\n",
    "    \"bgr\":         1.0,     # 0.0–1.0 – scambio completo dei canali per insegnare a gestire l’ordine BGR\n",
    "\n",
    "    # Mosaic / MixUp / CutMix\n",
    "    \"mosaic\":      0.5,     # 0.0–1.0 – mosaic ridotto al 50% per bilanciare velocità e varietà\n",
    "    \"mixup\":       0.3,     # 0.0–1.0 – mixup moderato per label noise e greater generalization\n",
    "\n",
    "    # Classification-only (opzionali, ignora se non serve)\n",
    "    # \"erasing\":   0.4,     # 0.0–0.9 – random erasing (classification only, lasciare a default se non serve)\n",
    "    # \"auto_augment\": \"randaugment\",  # classification only\n",
    "}\n",
    "train_params.update(augmentation_params)\n"
   ]
  },
  {
   "cell_type": "code",
   "execution_count": null,
   "id": "3464cc65",
   "metadata": {},
   "outputs": [
    {
     "name": "stdout",
     "output_type": "stream",
     "text": [
      "New https://pypi.org/project/ultralytics/8.3.123 available 😃 Update with 'pip install -U ultralytics'\n",
      "Ultralytics 8.3.116 🚀 Python-3.12.9 torch-2.7.0+cu126 CUDA:0 (NVIDIA GeForce RTX 4090, 24564MiB)\n",
      "\u001b[34m\u001b[1mengine/trainer: \u001b[0mtask=detect, mode=train, model=yolo11s.pt, data=data/objects365_subsample.yaml, epochs=100, time=None, patience=50, batch=-1, imgsz=640, save=True, save_period=5, cache=disk, device=0, workers=18, project=runs/train, name=exp_fastcache, exist_ok=True, pretrained=True, optimizer=AdamW, verbose=True, seed=42, deterministic=True, single_cls=False, rect=False, cos_lr=True, close_mosaic=10, resume=False, amp=True, fraction=1.0, profile=False, freeze=None, multi_scale=True, overlap_mask=True, mask_ratio=4, dropout=0.0, val=True, split=val, save_json=False, conf=None, iou=0.7, max_det=300, half=False, dnn=False, plots=False, source=None, vid_stride=1, stream_buffer=False, visualize=False, augment=False, agnostic_nms=False, classes=None, retina_masks=False, embed=None, show=False, save_frames=False, save_txt=False, save_conf=False, save_crop=False, show_labels=True, show_conf=True, show_boxes=True, line_width=None, format=torchscript, keras=False, optimize=False, int8=False, dynamic=False, simplify=True, opset=None, workspace=None, nms=False, lr0=0.01, lrf=0.1, momentum=0.937, weight_decay=0.0005, warmup_epochs=3.0, warmup_momentum=0.8, warmup_bias_lr=0.1, box=7.5, cls=0.5, dfl=1.5, pose=12.0, kobj=1.0, nbs=64, hsv_h=0.015, hsv_s=0.7, hsv_v=0.4, degrees=5.0, translate=0.1, scale=0.3, shear=0.0, perspective=0.0005, flipud=0.0, fliplr=0.5, bgr=1.0, mosaic=0.5, mixup=0.3, copy_paste=0.0, copy_paste_mode=flip, auto_augment=randaugment, erasing=0.4, cfg=None, tracker=botsort.yaml, save_dir=runs/train/exp_fastcache\n",
      "Overriding model.yaml nc=80 with nc=366\n",
      "\n",
      "                   from  n    params  module                                       arguments                     \n",
      "  0                  -1  1       928  ultralytics.nn.modules.conv.Conv             [3, 32, 3, 2]                 \n",
      "  1                  -1  1     18560  ultralytics.nn.modules.conv.Conv             [32, 64, 3, 2]                \n",
      "  2                  -1  1     26080  ultralytics.nn.modules.block.C3k2            [64, 128, 1, False, 0.25]     \n",
      "  3                  -1  1    147712  ultralytics.nn.modules.conv.Conv             [128, 128, 3, 2]              \n",
      "  4                  -1  1    103360  ultralytics.nn.modules.block.C3k2            [128, 256, 1, False, 0.25]    \n",
      "  5                  -1  1    590336  ultralytics.nn.modules.conv.Conv             [256, 256, 3, 2]              \n",
      "  6                  -1  1    346112  ultralytics.nn.modules.block.C3k2            [256, 256, 1, True]           \n",
      "  7                  -1  1   1180672  ultralytics.nn.modules.conv.Conv             [256, 512, 3, 2]              \n",
      "  8                  -1  1   1380352  ultralytics.nn.modules.block.C3k2            [512, 512, 1, True]           \n",
      "  9                  -1  1    656896  ultralytics.nn.modules.block.SPPF            [512, 512, 5]                 \n",
      " 10                  -1  1    990976  ultralytics.nn.modules.block.C2PSA           [512, 512, 1]                 \n",
      " 11                  -1  1         0  torch.nn.modules.upsampling.Upsample         [None, 2, 'nearest']          \n",
      " 12             [-1, 6]  1         0  ultralytics.nn.modules.conv.Concat           [1]                           \n",
      " 13                  -1  1    443776  ultralytics.nn.modules.block.C3k2            [768, 256, 1, False]          \n",
      " 14                  -1  1         0  torch.nn.modules.upsampling.Upsample         [None, 2, 'nearest']          \n",
      " 15             [-1, 4]  1         0  ultralytics.nn.modules.conv.Concat           [1]                           \n",
      " 16                  -1  1    127680  ultralytics.nn.modules.block.C3k2            [512, 128, 1, False]          \n",
      " 17                  -1  1    147712  ultralytics.nn.modules.conv.Conv             [128, 128, 3, 2]              \n",
      " 18            [-1, 13]  1         0  ultralytics.nn.modules.conv.Concat           [1]                           \n",
      " 19                  -1  1    345472  ultralytics.nn.modules.block.C3k2            [384, 256, 1, False]          \n",
      " 20                  -1  1    590336  ultralytics.nn.modules.conv.Conv             [256, 256, 3, 2]              \n",
      " 21            [-1, 10]  1         0  ultralytics.nn.modules.conv.Concat           [1]                           \n",
      " 22                  -1  1   1511424  ultralytics.nn.modules.block.C3k2            [768, 512, 1, True]           \n",
      " 23        [16, 19, 22]  1    961050  ultralytics.nn.modules.head.Detect           [366, [128, 256, 512]]        \n",
      "YOLO11s summary: 181 layers, 9,569,434 parameters, 9,569,418 gradients, 22.3 GFLOPs\n",
      "\n",
      "Transferred 493/499 items from pretrained weights\n",
      "Freezing layer 'model.23.dfl.conv.weight'\n",
      "\u001b[34m\u001b[1mAMP: \u001b[0mrunning Automatic Mixed Precision (AMP) checks...\n",
      "\u001b[34m\u001b[1mAMP: \u001b[0mchecks passed ✅\n",
      "\u001b[34m\u001b[1mtrain: \u001b[0mFast image access ✅ (ping: 2.3±0.2 ms, read: 22.9±6.9 MB/s, size: 82.9 KB)\n"
     ]
    }
   ],
   "source": [
    "import json\n",
    "\n",
    "# Addestra il modello con gli aumenti dei dati\n",
    "results = model.train(**train_params)\n",
    "# Crea la cartella 'results' se non esiste\n",
    "# Percorso per salvare i file\n",
    "output_dir = \"results\"\n",
    "os.makedirs(output_dir, exist_ok=True)\n",
    "\n",
    "model.save(f\"{output_dir}/best_model.pt\")  # Salva il modello addestrato\n",
    "# Nome base dei file\n",
    "filename = f\"{output_dir}/training_results\"\n",
    "\n",
    "# Salvataggio in TXT\n",
    "with open(f\"{filename}.txt\", \"w\") as f:\n",
    "    f.write(\"Training Results:\\n\")\n",
    "    f.write(f\"mAP50: {results.get('mAP50', 0.0):.4f}\\n\")\n",
    "    f.write(f\"mAP50-95: {results.get('mAP50-95', 0.0):.4f}\\n\")\n",
    "    f.write(f\"Precision: {results.get('precision', 0.0):.4f}\\n\")\n",
    "    f.write(f\"Recall: {results.get('recall', 0.0):.4f}\\n\")\n",
    "    f.write(f\"Training Time: {results.get('training_time', 'N/A')}\\n\")\n",
    "\n",
    "# Salvataggio in JSON\n",
    "with open(f\"{filename}.json\", \"w\") as f_json:\n",
    "    json.dump(results, f_json, indent=4)\n",
    "\n",
    "print(f\"✅ Risultati di addestramento salvati in '{filename}.txt' e '{filename}.json'\")"
   ]
  },
  {
   "cell_type": "markdown",
   "id": "2e8b7be6",
   "metadata": {},
   "source": [
    "## ✅ Step 3 – Validazione del Modello"
   ]
  },
  {
   "cell_type": "code",
   "execution_count": null,
   "id": "b39de4f4",
   "metadata": {},
   "outputs": [],
   "source": [
    "print(model.info())"
   ]
  },
  {
   "cell_type": "code",
   "execution_count": null,
   "id": "5087d409",
   "metadata": {},
   "outputs": [],
   "source": [
    "import os\n",
    "from ultralytics import YOLO\n",
    "\n",
    "# Path al file di pesi salvati\n",
    "weights_path = \"results/best_model.pt\"\n",
    "\n",
    "# ----------------------------\n",
    "# 1. Determina se 'model' è già in memoria\n",
    "# ----------------------------\n",
    "try:\n",
    "    # Prova ad accedere a `model`; se non esiste, scatena NameError\n",
    "    _ = model\n",
    "    in_ram = True\n",
    "except NameError:\n",
    "    in_ram = False\n",
    "\n",
    "# ----------------------------\n",
    "# 2. Scegli l'oggetto YOLO per la validazione\n",
    "# ----------------------------\n",
    "if in_ram:\n",
    "    print(\"✔️ Modello già in RAM: lo uso per la validazione\")\n",
    "    model_to_val = model\n",
    "elif os.path.exists(weights_path):\n",
    "    print(f\"✔️ Carico modello da disco: {weights_path}\")\n",
    "    model_to_val = YOLO(weights_path)\n",
    "else:\n",
    "    raise FileNotFoundError(f\"Né modello in RAM né file trovato: {weights_path}\")\n",
    "\n",
    "\n",
    "# Esegui la validazione\n",
    "val_results = model_to_val.val(\n",
    "    data=data,\n",
    "    imgsz=640,\n",
    "    batch=16,\n",
    "    device=0,\n",
    "    save=True\n",
    ")\n",
    "\n",
    "# Crea la cartella dei risultati\n",
    "os.makedirs(\"results\", exist_ok=True)\n",
    "\n",
    "# Ottieni il dizionario con le metriche\n",
    "metrics = val_results.results_dict\n",
    "\n",
    "\n",
    "filename = \"results/validation_results_subest_training_4\"\n",
    "\n",
    "# Stampa tutte le chiavi disponibili per debug (facoltativo)\n",
    "print(\"Chiavi disponibili in results_dict:\")\n",
    "for k in metrics:\n",
    "    print(f\"- {k}\")\n",
    "\n",
    "# Salvataggio in TXT\n",
    "with open(f\"{filename}.txt\", \"w\") as f:\n",
    "    f.write(\"Validation Results:\\n\")\n",
    "    f.write(f\"mAP50: {metrics.get('mAP50', 0.0):.4f}\\n\")\n",
    "    f.write(f\"mAP50-95: {metrics.get('mAP50-95', 0.0):.4f}\\n\")\n",
    "    f.write(f\"Precision: {metrics.get('precision', 0.0):.4f}\\n\")\n",
    "    f.write(f\"Recall: {metrics.get('recall', 0.0):.4f}\\n\")\n",
    "    f.write(f\"Inference Speed: {val_results.speed.get('inference', 0.0):.2f} ms/img\\n\")\n",
    "\n",
    "# Salvataggio in JSON\n",
    "with open(f\"{filename}.json\", \"w\") as f_json:\n",
    "    json.dump(metrics, f_json, indent=4)\n",
    "\n",
    "print(f\"✅ Risultati salvati in '{filename}.txt' e '{filename}.json'\")\n"
   ]
  }
 ],
 "metadata": {
  "kernelspec": {
   "display_name": ".venv",
   "language": "python",
   "name": "python3"
  },
  "language_info": {
   "codemirror_mode": {
    "name": "ipython",
    "version": 3
   },
   "file_extension": ".py",
   "mimetype": "text/x-python",
   "name": "python",
   "nbconvert_exporter": "python",
   "pygments_lexer": "ipython3",
   "version": "3.12.9"
  }
 },
 "nbformat": 4,
 "nbformat_minor": 5
}
