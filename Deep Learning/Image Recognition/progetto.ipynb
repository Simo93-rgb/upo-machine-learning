{
 "cells": [
  {
   "cell_type": "markdown",
   "id": "2ab0e582",
   "metadata": {},
   "source": [
    "# Image Recognition"
   ]
  },
  {
   "cell_type": "markdown",
   "id": "a54d8307",
   "metadata": {},
   "source": [
    "Verrà utilizzato YOLO nella versione 11 con modello nano. "
   ]
  },
  {
   "cell_type": "markdown",
   "id": "beb241d2",
   "metadata": {},
   "source": [
    "## ✅ Step 1 – Preparazione\n",
    "Assicurarsi che la libreria `ultralytics` sia installata"
   ]
  },
  {
   "cell_type": "code",
   "execution_count": null,
   "id": "ed32bf84",
   "metadata": {},
   "outputs": [],
   "source": [
    "%pip install --quiet ultralytics"
   ]
  },
  {
   "cell_type": "markdown",
   "id": "05413967",
   "metadata": {},
   "source": [
    "``base_dir`` rappresenta il percorso assoluto del dataset mentre ``workers`` rappresenta il numero di thread che il progetto potrà usare quando incontra funzioni multithread. Attenzione che fa un sacco di overhead se si imposta il parametro ``workers`` di YOLO ad un valore elevato."
   ]
  },
  {
   "cell_type": "code",
   "execution_count": 4,
   "id": "f21e93d8",
   "metadata": {},
   "outputs": [],
   "source": [
    "import os \n",
    "\n",
    "base_dir = \"/mnt/e/objects365\"\n",
    "workers = max(4, os.cpu_count() - 2) # 22 sul mio PC"
   ]
  },
  {
   "cell_type": "markdown",
   "id": "2826902a",
   "metadata": {},
   "source": [
    "Il dataset scaricato non ha la cartella di test ma solo `train` e `val` che sono per appunto addestramento e validazione. Ho deciso di creare una cartella di test togliendo dalla cartella di validazione alcune patch. "
   ]
  },
  {
   "cell_type": "code",
   "execution_count": null,
   "id": "711fe374",
   "metadata": {},
   "outputs": [],
   "source": [
    "from data.create_test_samples import create_test_set\n",
    "\n",
    "create_test_set(base_dir, test_size_ratio=0.1, num_threads=8)"
   ]
  },
  {
   "cell_type": "markdown",
   "id": "7656c27c",
   "metadata": {},
   "source": [
    "Le patch sono molto grandi e per limiti hardware ho deciso di fare uno split, quindi sia labels che images che test avranno il doppio delle patch ma grandi la metà dove ogni patchX sarà divisa in patchX_a e patchX_b doce la X è un numero intero."
   ]
  },
  {
   "cell_type": "code",
   "execution_count": null,
   "id": "1b3c9381",
   "metadata": {},
   "outputs": [],
   "source": [
    "from data.split_patch import dividi_patch_in_due_multithread\n",
    "import os\n",
    "\n",
    "workers = max(4, os.cpu_count() - 2)\n",
    "\n",
    "# Gestisco le Labels\n",
    "dividi_patch_in_due_multithread(f\"{base_dir}/labels/test\", max_workers=workers)\n",
    "dividi_patch_in_due_multithread(f\"{base_dir}/labels/val\", max_workers=workers)\n",
    "dividi_patch_in_due_multithread(f\"{base_dir}/labels/train\", max_workers=workers)\n",
    "\n",
    "# Gestisco le immagini\n",
    "dividi_patch_in_due_multithread(f\"{base_dir}/images/test\", max_workers=workers)\n",
    "dividi_patch_in_due_multithread(f\"{base_dir}/images/train\", max_workers=workers)\n",
    "dividi_patch_in_due_multithread(f\"{base_dir}/images/val\", max_workers=workers)\n"
   ]
  },
  {
   "cell_type": "markdown",
   "id": "edba814d",
   "metadata": {},
   "source": [
    "Siccome YOLO ha bisogno di un file di configurazione in formato YAML (Yet Another Markup Language) e siccome il dataset è diviso in patch c'è bisogno di dare le coordinate delle patch a YOLO e per farlo bisogna creare un file TXT con tutti i percorsi assoluti di tutti i file da processare."
   ]
  },
  {
   "cell_type": "code",
   "execution_count": null,
   "id": "c94c837d",
   "metadata": {},
   "outputs": [],
   "source": [
    "from data.create_image_lists import create_patch_image_lists\n",
    "\n",
    "\n",
    "# Crea gli elenchi delle immagini per il training, la validazione e il test\n",
    "threads = 16\n",
    "create_patch_image_lists(base_dir, \"train\", f\"{base_dir}/patch_txts\", num_threads=threads)\n",
    "create_patch_image_lists(base_dir, \"val\", f\"{base_dir}/patch_txts\", num_threads=threads)\n",
    "create_patch_image_lists(base_dir, \"test\", f\"{base_dir}/patch_txts\", num_threads=threads)"
   ]
  },
  {
   "cell_type": "markdown",
   "id": "9dbaaefd",
   "metadata": {},
   "source": [
    "Qui un estratto del file YAML:\n",
    "\n",
    "```yaml\n",
    "path: /mnt/e/objects365/patch_txts # Percorso base\n",
    "train: train_patch0_a.txt  # File con elenco immagini di training\n",
    "val: val_patch0_a.txt      # File con elenco immagini di validation\n",
    "```\n",
    "Per automatizzare il processo ho creato uno script per gestire dinamicamente il file YAML. \n",
    "Attenzione! Il numero di patch di validazione è inferiore a quello di training quindi alcuni passaggi di train saranno validati con la stessa patch di validazione. "
   ]
  },
  {
   "cell_type": "markdown",
   "id": "87334326",
   "metadata": {},
   "source": [
    "Mi sono accorto che nelle etichette spesso compare la classe 365 ma questa non è mappata nel file YAML e siccome YOLO non ha la classe `background` come default per le classi sconosciute allora per identificare tutto ciò che non è mappabile dal modello, ho deciso di mappare la classe 365 delle etichette come classe `Unknown`."
   ]
  },
  {
   "cell_type": "markdown",
   "id": "dcbe4997",
   "metadata": {},
   "source": [
    "```yaml\n",
    "# Classes\n",
    "names:\n",
    "  0: Person\n",
    "  1: Sneakers\n",
    "  2: Chair\n",
    "  3: Other Shoes\n",
    "  ...\n",
    "  361: Lipstick\n",
    "  362: Cosmetics Mirror\n",
    "  363: Curling\n",
    "  364: Table Tennis\n",
    "  365: Unknown\n",
    "```"
   ]
  },
  {
   "cell_type": "markdown",
   "id": "3cbbae68",
   "metadata": {},
   "source": [
    "## ✅ Step 2 – Addestramento del Modello"
   ]
  },
  {
   "cell_type": "markdown",
   "id": "10d825d0",
   "metadata": {},
   "source": [
    "Il modello di YOLO scelto sarà un *pretrained*, successivamente verrà importato il modello addestrato sulle patch del dataset. Ho scelto il modello nano perché compatibile insieme alla dimensine delle patch per girare sulla mia GPU, anche solo con il modello small la quantità di VRAM necessaria eccede quella della mia GPU e andando ad utilizzare della memoria condivisa in RAM il processo rallenta drasticamente al punto di passare da iterazioni al secondo a secondi per iterazione.\n"
   ]
  },
  {
   "cell_type": "code",
   "execution_count": 25,
   "id": "fc51073a",
   "metadata": {},
   "outputs": [],
   "source": [
    "from ultralytics import YOLO\n",
    "\n",
    "# Load a model\n",
    "model = YOLO(\"yolo11n.pt\")  # load a pretrained model (recommended for training)"
   ]
  },
  {
   "cell_type": "markdown",
   "id": "22716c6e",
   "metadata": {},
   "source": [
    "## Augmentation Parameters\n",
    "Gli aumenti dei dati sono tecniche utilizzate per migliorare la robustezza e la generalizzazione del modello. Ecco i parametri configurabili:\n",
    "\n",
    "- **hsv_h (Hue)**: Regola la tonalità dei colori per rendere il modello invariante alle variazioni di colore.\n",
    "- **hsv_s (Saturation)**: Modifica la saturazione per simulare diverse condizioni di illuminazione.\n",
    "- **hsv_v (Brightness)**: Cambia la luminosità per gestire immagini con diverse esposizioni.\n",
    "- **degrees**: Applica rotazioni casuali per migliorare l'invarianza al punto di vista.\n",
    "- **translate**: Introduce traslazioni casuali per rendere il modello robusto a oggetti in posizioni diverse.\n",
    "- **scale**: Ridimensiona gli oggetti per gestire variazioni di dimensioni.\n",
    "- **shear**: Applica tagli (shearing) per simulare distorsioni geometriche (impostato a 0 per evitare distorsioni estreme).\n",
    "- **fliplr**: Effettua un flip orizzontale casuale per aumentare la varietà dei dati.\n",
    "- **mosaic**: Combina più immagini in un'unica immagine per migliorare il rilevamento di piccoli oggetti e il contesto.\n",
    "- **bgr**: Scambia i canali BGR per gestire diversi formati di immagine."
   ]
  },
  {
   "cell_type": "code",
   "execution_count": null,
   "id": "999bdd35",
   "metadata": {},
   "outputs": [],
   "source": [
    "import os\n",
    "data_yaml = \"data/objects365_step.yaml\"\n",
    "train_params = {\n",
    "    \"data\":         data_yaml,               # YAML con path /mnt/e/yolo-fast\n",
    "    \"epochs\":       100,                     # numero di epoche\n",
    "    \"patience\":     50,                      # early stopping\n",
    "    \"batch\":        16,                      # auto batch size (~60% VRAM)\n",
    "    \"imgsz\":        640,                     # dimensione delle immagini\n",
    "    \"device\":       0,                       # GPU 0\n",
    "    \"workers\":      4,                       # DataLoader parallelismo\n",
    "    \"cache\":        False,                   # caching su disco (/mnt/e)\n",
    "    \"save\":         True,                    # salva checkpoint e modello\n",
    "    \"save_period\":  5,                       # checkpoint ogni 5 epoche\n",
    "    \"project\":      \"runs/train\",            # cartella di uscita\n",
    "    \"name\":         \"exp_fastcache\",         # nome del run\n",
    "    \"exist_ok\":     True,                    # sovrascrivi se esiste\n",
    "    \"pretrained\":   True,                    # usa pesi pretrained\n",
    "    \"optimizer\":    \"AdamW\",                 # SGD o Adam/AdamW\n",
    "    \"amp\":          True,                    # mixed precision\n",
    "    \"rect\":         False,                   # rectangular training off\n",
    "    \"multi_scale\":  True,                    # multi-scale training on\n",
    "    \"cos_lr\":       True,                    # cosine LR scheduler\n",
    "    \"close_mosaic\": 10,                      # disabilita mosaic ultime 10 epoche\n",
    "    \"lr0\":          0.01,                    # learning rate iniziale\n",
    "    \"lrf\":          0.1,                     # final LR = lr0 * lrf\n",
    "    \"momentum\":     0.937,                   # momentum / beta1 per Adam\n",
    "    \"weight_decay\": 0.0005,                  # regularizzazione L2\n",
    "    \"warmup_epochs\":    3.0,                 # epoche warmup LR\n",
    "    \"warmup_momentum\":  0.8,                 # momentum warmup\n",
    "    \"warmup_bias_lr\":   0.1,                 # bias LR warmup\n",
    "    \"seed\":         42,                      # per riproducibilità\n",
    "    \"fraction\":     1.0,                     # usa 100% del dataset\n",
    "    \"val\":          True,                    # abilita validazione\n",
    "    \"plots\":        False                    # salva grafici di training/val\n",
    "}"
   ]
  },
  {
   "cell_type": "code",
   "execution_count": 10,
   "id": "b8dabc43",
   "metadata": {},
   "outputs": [],
   "source": [
    "# Parametri di data augmentation ottimizzati\n",
    "augmentation_params = {\n",
    "    # Colore (HSV)\n",
    "    \"hsv_h\":       0.015,   # Default: 0.015 (range 0.0–1.0) – mantiene piccole variazioni di tonalità\n",
    "    \"hsv_s\":       0.7,     # Default: 0.7   (range 0.0–1.0) – variazione consistente di saturazione\n",
    "    \"hsv_v\":       0.4,     # Default: 0.4   (range 0.0–1.0) – variazione di luminosità medio-alta\n",
    "\n",
    "    # Geometriche\n",
    "    \"degrees\":     5.0,     # Da 0.0 a 180 – rotazioni lievi per preservare orientamenti realistici\n",
    "    \"translate\":   0.1,     # Da 0.0 a 1.0   – spostamenti fino al 10% delle dimensioni d’immagine\n",
    "    \"scale\":       0.3,     # ≥ 0.0          – riduzione del range (da 0.5 a 0.3) per minor carico computazionale\n",
    "    \"shear\":       0.0,     # –180 a +180    – mantenuto a 0 per evitare distorsioni drastiche\n",
    "    \"perspective\": 0.0005,  # 0.0–0.001      – inserita una lieve prospettiva per aumentare la robustezza 3D\n",
    "\n",
    "    # Flip\n",
    "    \"flipud\":      0.0,     # 0.0–1.0 – no flip verticale (rischio di immagini “capovolte” poco realistiche)\n",
    "    \"fliplr\":      0.5,     # 0.0–1.0 – flip orizzontale con probabilità 50%\n",
    "\n",
    "    # Canale BGR\n",
    "    \"bgr\":         1.0,     # 0.0–1.0 – scambio completo dei canali per insegnare a gestire l’ordine BGR\n",
    "\n",
    "    # Mosaic / MixUp / CutMix\n",
    "    \"mosaic\":      0.5,     # 0.0–1.0 – mosaic ridotto al 50% per bilanciare velocità e varietà\n",
    "    \"mixup\":       0.3,     # 0.0–1.0 – mixup moderato per label noise e greater generalization\n",
    "\n",
    "    # Classification-only (opzionali, ignora se non serve)\n",
    "    # \"erasing\":   0.4,     # 0.0–0.9 – random erasing (classification only, lasciare a default se non serve)\n",
    "    # \"auto_augment\": \"randaugment\",  # classification only\n",
    "}\n",
    "train_params.update(augmentation_params)\n"
   ]
  },
  {
   "cell_type": "markdown",
   "id": "3d529441",
   "metadata": {},
   "source": [
    "Gli addestramenti vengono fatti su ogni patch e per automatizzare il processo tengo traccia su un file JSON sia il numero di patch che la sua lettera. "
   ]
  },
  {
   "cell_type": "code",
   "execution_count": 20,
   "id": "b43ab047",
   "metadata": {},
   "outputs": [
    {
     "name": "stdout",
     "output_type": "stream",
     "text": [
      "Tracking number: 1, Letter patch: b, Validation number: 0\n"
     ]
    }
   ],
   "source": [
    "import importlib\n",
    "import data.tracking_training\n",
    "importlib.reload(data.tracking_training)\n",
    "from data.tracking_training import leggi_e_incrementa_numero_json, aggiorna_train_val_yaml\n",
    "traking_number, letter_patch = leggi_e_incrementa_numero_json(filepath=\"data/tracking_number_and_patch_letter.json\")\n",
    "\n",
    "val_number = traking_number - 1 if traking_number in [1, 6, 15, 24] else traking_number # alcuni val mancano perché ora sono test\n",
    "print(f\"Tracking number: {traking_number}, Letter patch: {letter_patch}, Validation number: {val_number}\")\n",
    "aggiorna_train_val_yaml(\n",
    "    yaml_path=\"data/objects365_step.yaml\",\n",
    "    nuovo_train=f\"/mnt/e/objects365/patch_txts/train_patch{traking_number}_{letter_patch}.txt\",\n",
    "    nuovo_val=f\"/mnt/e/objects365/patch_txts/val_patch{val_number}_{letter_patch}.txt\"\n",
    ")"
   ]
  },
  {
   "cell_type": "markdown",
   "id": "b6314250",
   "metadata": {},
   "source": [
    "Ecco l'addestramento del modello:\n",
    "1. Carico il modello\n",
    "    - Se primo giro allora la versione base di YOLO nano\n",
    "    - Altrimenti il modello addestrato precedentemente\n",
    "2. Lancio l'addestramento con i parametri impostati precedentemente\n",
    "3. Salvo il modello addestrato\n",
    "4. Salvo le metriche di valutazione su file."
   ]
  },
  {
   "cell_type": "code",
   "execution_count": 21,
   "id": "3464cc65",
   "metadata": {},
   "outputs": [
    {
     "name": "stdout",
     "output_type": "stream",
     "text": [
      "Ultralytics 8.3.146 🚀 Python-3.12.3 torch-2.7.0+cu126 CUDA:0 (NVIDIA GeForce RTX 4090, 24564MiB)\n",
      "\u001b[34m\u001b[1mengine/trainer: \u001b[0magnostic_nms=False, amp=True, augment=False, auto_augment=randaugment, batch=16, bgr=1.0, box=7.5, cache=False, cfg=None, classes=None, close_mosaic=10, cls=0.5, conf=None, copy_paste=0.0, copy_paste_mode=flip, cos_lr=True, cutmix=0.0, data=data/objects365_step.yaml, degrees=5.0, deterministic=True, device=0, dfl=1.5, dnn=False, dropout=0.0, dynamic=False, embed=None, epochs=100, erasing=0.4, exist_ok=True, fliplr=0.5, flipud=0.0, format=torchscript, fraction=1.0, freeze=None, half=False, hsv_h=0.015, hsv_s=0.7, hsv_v=0.4, imgsz=640, int8=False, iou=0.7, keras=False, kobj=1.0, line_width=None, lr0=0.01, lrf=0.1, mask_ratio=4, max_det=300, mixup=0.3, mode=train, model=results/best_model_1_a.pt, momentum=0.937, mosaic=0.5, multi_scale=True, name=exp_fastcache, nbs=64, nms=False, opset=None, optimize=False, optimizer=AdamW, overlap_mask=True, patience=50, perspective=0.0005, plots=False, pose=12.0, pretrained=True, profile=False, project=runs/train, rect=False, resume=False, retina_masks=False, save=True, save_conf=False, save_crop=False, save_dir=runs/train/exp_fastcache, save_frames=False, save_json=False, save_period=5, save_txt=False, scale=0.3, seed=42, shear=0.0, show=False, show_boxes=True, show_conf=True, show_labels=True, simplify=True, single_cls=False, source=None, split=val, stream_buffer=False, task=detect, time=None, tracker=botsort.yaml, translate=0.1, val=True, verbose=True, vid_stride=1, visualize=False, warmup_bias_lr=0.1, warmup_epochs=3.0, warmup_momentum=0.8, weight_decay=0.0005, workers=4, workspace=None\n",
      "\n",
      "                   from  n    params  module                                       arguments                     \n",
      "  0                  -1  1       464  ultralytics.nn.modules.conv.Conv             [3, 16, 3, 2]                 \n",
      "  1                  -1  1      4672  ultralytics.nn.modules.conv.Conv             [16, 32, 3, 2]                \n",
      "  2                  -1  1      6640  ultralytics.nn.modules.block.C3k2            [32, 64, 1, False, 0.25]      \n",
      "  3                  -1  1     36992  ultralytics.nn.modules.conv.Conv             [64, 64, 3, 2]                \n",
      "  4                  -1  1     26080  ultralytics.nn.modules.block.C3k2            [64, 128, 1, False, 0.25]     \n",
      "  5                  -1  1    147712  ultralytics.nn.modules.conv.Conv             [128, 128, 3, 2]              \n",
      "  6                  -1  1     87040  ultralytics.nn.modules.block.C3k2            [128, 128, 1, True]           \n",
      "  7                  -1  1    295424  ultralytics.nn.modules.conv.Conv             [128, 256, 3, 2]              \n",
      "  8                  -1  1    346112  ultralytics.nn.modules.block.C3k2            [256, 256, 1, True]           \n",
      "  9                  -1  1    164608  ultralytics.nn.modules.block.SPPF            [256, 256, 5]                 \n",
      " 10                  -1  1    249728  ultralytics.nn.modules.block.C2PSA           [256, 256, 1]                 \n",
      " 11                  -1  1         0  torch.nn.modules.upsampling.Upsample         [None, 2, 'nearest']          \n",
      " 12             [-1, 6]  1         0  ultralytics.nn.modules.conv.Concat           [1]                           \n",
      " 13                  -1  1    111296  ultralytics.nn.modules.block.C3k2            [384, 128, 1, False]          \n",
      " 14                  -1  1         0  torch.nn.modules.upsampling.Upsample         [None, 2, 'nearest']          \n",
      " 15             [-1, 4]  1         0  ultralytics.nn.modules.conv.Concat           [1]                           \n",
      " 16                  -1  1     32096  ultralytics.nn.modules.block.C3k2            [256, 64, 1, False]           \n",
      " 17                  -1  1     36992  ultralytics.nn.modules.conv.Conv             [64, 64, 3, 2]                \n",
      " 18            [-1, 13]  1         0  ultralytics.nn.modules.conv.Concat           [1]                           \n",
      " 19                  -1  1     86720  ultralytics.nn.modules.block.C3k2            [192, 128, 1, False]          \n",
      " 20                  -1  1    147712  ultralytics.nn.modules.conv.Conv             [128, 128, 3, 2]              \n",
      " 21            [-1, 10]  1         0  ultralytics.nn.modules.conv.Concat           [1]                           \n",
      " 22                  -1  1    378880  ultralytics.nn.modules.block.C3k2            [384, 256, 1, True]           \n",
      " 23        [16, 19, 22]  1    577030  ultralytics.nn.modules.head.Detect           [366, [64, 128, 256]]         \n",
      "YOLO11n summary: 181 layers, 2,736,198 parameters, 2,736,182 gradients, 7.2 GFLOPs\n",
      "\n",
      "Transferred 499/499 items from pretrained weights\n",
      "Freezing layer 'model.23.dfl.conv.weight'\n",
      "\u001b[34m\u001b[1mAMP: \u001b[0mrunning Automatic Mixed Precision (AMP) checks...\n",
      "\u001b[34m\u001b[1mAMP: \u001b[0mchecks passed ✅\n",
      "\u001b[34m\u001b[1mtrain: \u001b[0mFast image access ✅ (ping: 3.1±0.3 ms, read: 13.4±2.8 MB/s, size: 123.4 KB)\n"
     ]
    },
    {
     "name": "stderr",
     "output_type": "stream",
     "text": [
      "\u001b[34m\u001b[1mtrain: \u001b[0mScanning /mnt/e/objects365/labels/train/patch1_b... 17361 images, 0 backgrounds, 0 corrupt: 100%|██████████| 17361/17361 [00:53<00:00, 327.01it/s]"
     ]
    },
    {
     "name": "stdout",
     "output_type": "stream",
     "text": [
      "\u001b[34m\u001b[1mtrain: \u001b[0m/mnt/e/objects365/images/train/patch1_b/objects365_v1_00069045.jpg: 1 duplicate labels removed\n",
      "\u001b[34m\u001b[1mtrain: \u001b[0m/mnt/e/objects365/images/train/patch1_b/objects365_v1_00069173.jpg: 6 duplicate labels removed\n",
      "\u001b[34m\u001b[1mtrain: \u001b[0m/mnt/e/objects365/images/train/patch1_b/objects365_v1_00069211.jpg: 2 duplicate labels removed\n",
      "\u001b[34m\u001b[1mtrain: \u001b[0m/mnt/e/objects365/images/train/patch1_b/objects365_v1_00069421.jpg: 10 duplicate labels removed\n",
      "\u001b[34m\u001b[1mtrain: \u001b[0m/mnt/e/objects365/images/train/patch1_b/objects365_v1_00069469.jpg: 5 duplicate labels removed\n",
      "\u001b[34m\u001b[1mtrain: \u001b[0m/mnt/e/objects365/images/train/patch1_b/objects365_v1_00069498.jpg: 1 duplicate labels removed\n",
      "\u001b[34m\u001b[1mtrain: \u001b[0m/mnt/e/objects365/images/train/patch1_b/objects365_v1_00069749.jpg: 5 duplicate labels removed\n",
      "\u001b[34m\u001b[1mtrain: \u001b[0m/mnt/e/objects365/images/train/patch1_b/objects365_v1_00069764.jpg: 12 duplicate labels removed\n",
      "\u001b[34m\u001b[1mtrain: \u001b[0m/mnt/e/objects365/images/train/patch1_b/objects365_v1_00069767.jpg: 2 duplicate labels removed\n",
      "\u001b[34m\u001b[1mtrain: \u001b[0m/mnt/e/objects365/images/train/patch1_b/objects365_v1_00070056.jpg: 2 duplicate labels removed\n",
      "\u001b[34m\u001b[1mtrain: \u001b[0m/mnt/e/objects365/images/train/patch1_b/objects365_v1_00070288.jpg: 8 duplicate labels removed\n",
      "\u001b[34m\u001b[1mtrain: \u001b[0m/mnt/e/objects365/images/train/patch1_b/objects365_v1_00070378.jpg: 16 duplicate labels removed\n",
      "\u001b[34m\u001b[1mtrain: \u001b[0m/mnt/e/objects365/images/train/patch1_b/objects365_v1_00070507.jpg: 4 duplicate labels removed\n",
      "\u001b[34m\u001b[1mtrain: \u001b[0m/mnt/e/objects365/images/train/patch1_b/objects365_v1_00070839.jpg: 2 duplicate labels removed\n",
      "\u001b[34m\u001b[1mtrain: \u001b[0m/mnt/e/objects365/images/train/patch1_b/objects365_v1_00071012.jpg: 8 duplicate labels removed\n",
      "\u001b[34m\u001b[1mtrain: \u001b[0m/mnt/e/objects365/images/train/patch1_b/objects365_v1_00071030.jpg: 2 duplicate labels removed\n",
      "\u001b[34m\u001b[1mtrain: \u001b[0m/mnt/e/objects365/images/train/patch1_b/objects365_v1_00071128.jpg: 10 duplicate labels removed\n",
      "\u001b[34m\u001b[1mtrain: \u001b[0m/mnt/e/objects365/images/train/patch1_b/objects365_v1_00071214.jpg: 10 duplicate labels removed\n",
      "\u001b[34m\u001b[1mtrain: \u001b[0m/mnt/e/objects365/images/train/patch1_b/objects365_v1_00071448.jpg: 1 duplicate labels removed\n",
      "\u001b[34m\u001b[1mtrain: \u001b[0m/mnt/e/objects365/images/train/patch1_b/objects365_v1_00071547.jpg: 9 duplicate labels removed\n",
      "\u001b[34m\u001b[1mtrain: \u001b[0m/mnt/e/objects365/images/train/patch1_b/objects365_v1_00071609.jpg: 5 duplicate labels removed\n",
      "\u001b[34m\u001b[1mtrain: \u001b[0m/mnt/e/objects365/images/train/patch1_b/objects365_v1_00071712.jpg: 2 duplicate labels removed\n",
      "\u001b[34m\u001b[1mtrain: \u001b[0m/mnt/e/objects365/images/train/patch1_b/objects365_v1_00071768.jpg: 2 duplicate labels removed\n",
      "\u001b[34m\u001b[1mtrain: \u001b[0m/mnt/e/objects365/images/train/patch1_b/objects365_v1_00071786.jpg: 14 duplicate labels removed\n",
      "\u001b[34m\u001b[1mtrain: \u001b[0m/mnt/e/objects365/images/train/patch1_b/objects365_v1_00071865.jpg: 27 duplicate labels removed\n",
      "\u001b[34m\u001b[1mtrain: \u001b[0m/mnt/e/objects365/images/train/patch1_b/objects365_v1_00072433.jpg: 6 duplicate labels removed\n",
      "\u001b[34m\u001b[1mtrain: \u001b[0m/mnt/e/objects365/images/train/patch1_b/objects365_v1_00072437.jpg: 4 duplicate labels removed\n",
      "\u001b[34m\u001b[1mtrain: \u001b[0m/mnt/e/objects365/images/train/patch1_b/objects365_v1_00072714.jpg: 5 duplicate labels removed\n",
      "\u001b[34m\u001b[1mtrain: \u001b[0m/mnt/e/objects365/images/train/patch1_b/objects365_v1_00072830.jpg: 3 duplicate labels removed\n",
      "\u001b[34m\u001b[1mtrain: \u001b[0m/mnt/e/objects365/images/train/patch1_b/objects365_v1_00072923.jpg: 5 duplicate labels removed\n",
      "\u001b[34m\u001b[1mtrain: \u001b[0m/mnt/e/objects365/images/train/patch1_b/objects365_v1_00072995.jpg: 2 duplicate labels removed\n",
      "\u001b[34m\u001b[1mtrain: \u001b[0m/mnt/e/objects365/images/train/patch1_b/objects365_v1_00073171.jpg: 1 duplicate labels removed\n",
      "\u001b[34m\u001b[1mtrain: \u001b[0m/mnt/e/objects365/images/train/patch1_b/objects365_v1_00073403.jpg: 2 duplicate labels removed\n",
      "\u001b[34m\u001b[1mtrain: \u001b[0m/mnt/e/objects365/images/train/patch1_b/objects365_v1_00073470.jpg: 2 duplicate labels removed\n",
      "\u001b[34m\u001b[1mtrain: \u001b[0m/mnt/e/objects365/images/train/patch1_b/objects365_v1_00073645.jpg: 1 duplicate labels removed\n",
      "\u001b[34m\u001b[1mtrain: \u001b[0m/mnt/e/objects365/images/train/patch1_b/objects365_v1_00073691.jpg: 3 duplicate labels removed\n",
      "\u001b[34m\u001b[1mtrain: \u001b[0m/mnt/e/objects365/images/train/patch1_b/objects365_v1_00073876.jpg: 6 duplicate labels removed\n",
      "\u001b[34m\u001b[1mtrain: \u001b[0m/mnt/e/objects365/images/train/patch1_b/objects365_v1_00074036.jpg: 7 duplicate labels removed\n",
      "\u001b[34m\u001b[1mtrain: \u001b[0m/mnt/e/objects365/images/train/patch1_b/objects365_v1_00074256.jpg: 14 duplicate labels removed\n",
      "\u001b[34m\u001b[1mtrain: \u001b[0m/mnt/e/objects365/images/train/patch1_b/objects365_v1_00074298.jpg: 13 duplicate labels removed\n",
      "\u001b[34m\u001b[1mtrain: \u001b[0m/mnt/e/objects365/images/train/patch1_b/objects365_v1_00074474.jpg: 2 duplicate labels removed\n",
      "\u001b[34m\u001b[1mtrain: \u001b[0m/mnt/e/objects365/images/train/patch1_b/objects365_v1_00074512.jpg: 1 duplicate labels removed\n",
      "\u001b[34m\u001b[1mtrain: \u001b[0m/mnt/e/objects365/images/train/patch1_b/objects365_v1_00074545.jpg: 2 duplicate labels removed\n",
      "\u001b[34m\u001b[1mtrain: \u001b[0m/mnt/e/objects365/images/train/patch1_b/objects365_v1_00075154.jpg: 8 duplicate labels removed\n",
      "\u001b[34m\u001b[1mtrain: \u001b[0m/mnt/e/objects365/images/train/patch1_b/objects365_v1_00075472.jpg: 1 duplicate labels removed\n",
      "\u001b[34m\u001b[1mtrain: \u001b[0m/mnt/e/objects365/images/train/patch1_b/objects365_v1_00075519.jpg: 3 duplicate labels removed\n",
      "\u001b[34m\u001b[1mtrain: \u001b[0m/mnt/e/objects365/images/train/patch1_b/objects365_v1_00075557.jpg: 8 duplicate labels removed\n",
      "\u001b[34m\u001b[1mtrain: \u001b[0m/mnt/e/objects365/images/train/patch1_b/objects365_v1_00075701.jpg: 9 duplicate labels removed\n",
      "\u001b[34m\u001b[1mtrain: \u001b[0m/mnt/e/objects365/images/train/patch1_b/objects365_v1_00075730.jpg: 1 duplicate labels removed\n",
      "\u001b[34m\u001b[1mtrain: \u001b[0m/mnt/e/objects365/images/train/patch1_b/objects365_v1_00076011.jpg: 4 duplicate labels removed\n",
      "\u001b[34m\u001b[1mtrain: \u001b[0m/mnt/e/objects365/images/train/patch1_b/objects365_v1_00076095.jpg: 1 duplicate labels removed\n",
      "\u001b[34m\u001b[1mtrain: \u001b[0m/mnt/e/objects365/images/train/patch1_b/objects365_v1_00076184.jpg: 15 duplicate labels removed\n",
      "\u001b[34m\u001b[1mtrain: \u001b[0m/mnt/e/objects365/images/train/patch1_b/objects365_v1_00076935.jpg: 7 duplicate labels removed\n",
      "\u001b[34m\u001b[1mtrain: \u001b[0m/mnt/e/objects365/images/train/patch1_b/objects365_v1_00077059.jpg: 2 duplicate labels removed\n",
      "\u001b[34m\u001b[1mtrain: \u001b[0m/mnt/e/objects365/images/train/patch1_b/objects365_v1_00077162.jpg: 6 duplicate labels removed\n",
      "\u001b[34m\u001b[1mtrain: \u001b[0m/mnt/e/objects365/images/train/patch1_b/objects365_v1_00077260.jpg: 3 duplicate labels removed\n",
      "\u001b[34m\u001b[1mtrain: \u001b[0m/mnt/e/objects365/images/train/patch1_b/objects365_v1_00077270.jpg: 1 duplicate labels removed\n",
      "\u001b[34m\u001b[1mtrain: \u001b[0m/mnt/e/objects365/images/train/patch1_b/objects365_v1_00077271.jpg: 3 duplicate labels removed\n",
      "\u001b[34m\u001b[1mtrain: \u001b[0m/mnt/e/objects365/images/train/patch1_b/objects365_v1_00077368.jpg: 1 duplicate labels removed\n",
      "\u001b[34m\u001b[1mtrain: \u001b[0m/mnt/e/objects365/images/train/patch1_b/objects365_v1_00077613.jpg: 2 duplicate labels removed\n",
      "\u001b[34m\u001b[1mtrain: \u001b[0m/mnt/e/objects365/images/train/patch1_b/objects365_v1_00078136.jpg: 4 duplicate labels removed\n",
      "\u001b[34m\u001b[1mtrain: \u001b[0m/mnt/e/objects365/images/train/patch1_b/objects365_v1_00078186.jpg: 1 duplicate labels removed\n",
      "\u001b[34m\u001b[1mtrain: \u001b[0m/mnt/e/objects365/images/train/patch1_b/objects365_v1_00078203.jpg: 1 duplicate labels removed\n",
      "\u001b[34m\u001b[1mtrain: \u001b[0m/mnt/e/objects365/images/train/patch1_b/objects365_v1_00078385.jpg: 1 duplicate labels removed\n",
      "\u001b[34m\u001b[1mtrain: \u001b[0m/mnt/e/objects365/images/train/patch1_b/objects365_v1_00078448.jpg: 1 duplicate labels removed\n",
      "\u001b[34m\u001b[1mtrain: \u001b[0m/mnt/e/objects365/images/train/patch1_b/objects365_v1_00078557.jpg: 3 duplicate labels removed\n",
      "\u001b[34m\u001b[1mtrain: \u001b[0m/mnt/e/objects365/images/train/patch1_b/objects365_v1_00078624.jpg: 3 duplicate labels removed\n",
      "\u001b[34m\u001b[1mtrain: \u001b[0m/mnt/e/objects365/images/train/patch1_b/objects365_v1_00078721.jpg: 1 duplicate labels removed\n",
      "\u001b[34m\u001b[1mtrain: \u001b[0m/mnt/e/objects365/images/train/patch1_b/objects365_v1_00078744.jpg: 3 duplicate labels removed\n",
      "\u001b[34m\u001b[1mtrain: \u001b[0m/mnt/e/objects365/images/train/patch1_b/objects365_v1_00078842.jpg: 5 duplicate labels removed\n",
      "\u001b[34m\u001b[1mtrain: \u001b[0m/mnt/e/objects365/images/train/patch1_b/objects365_v1_00078857.jpg: 7 duplicate labels removed\n",
      "\u001b[34m\u001b[1mtrain: \u001b[0m/mnt/e/objects365/images/train/patch1_b/objects365_v1_00078955.jpg: 4 duplicate labels removed\n",
      "\u001b[34m\u001b[1mtrain: \u001b[0m/mnt/e/objects365/images/train/patch1_b/objects365_v1_00079177.jpg: 5 duplicate labels removed\n",
      "\u001b[34m\u001b[1mtrain: \u001b[0m/mnt/e/objects365/images/train/patch1_b/objects365_v1_00079195.jpg: 7 duplicate labels removed\n",
      "\u001b[34m\u001b[1mtrain: \u001b[0m/mnt/e/objects365/images/train/patch1_b/objects365_v1_00079292.jpg: 1 duplicate labels removed\n",
      "\u001b[34m\u001b[1mtrain: \u001b[0m/mnt/e/objects365/images/train/patch1_b/objects365_v1_00079407.jpg: 2 duplicate labels removed\n",
      "\u001b[34m\u001b[1mtrain: \u001b[0m/mnt/e/objects365/images/train/patch1_b/objects365_v1_00080155.jpg: 11 duplicate labels removed\n",
      "\u001b[34m\u001b[1mtrain: \u001b[0m/mnt/e/objects365/images/train/patch1_b/objects365_v1_00080181.jpg: 3 duplicate labels removed\n",
      "\u001b[34m\u001b[1mtrain: \u001b[0m/mnt/e/objects365/images/train/patch1_b/objects365_v1_00080273.jpg: 1 duplicate labels removed\n",
      "\u001b[34m\u001b[1mtrain: \u001b[0m/mnt/e/objects365/images/train/patch1_b/objects365_v1_00080329.jpg: 10 duplicate labels removed\n",
      "\u001b[34m\u001b[1mtrain: \u001b[0m/mnt/e/objects365/images/train/patch1_b/objects365_v1_00080447.jpg: 3 duplicate labels removed\n",
      "\u001b[34m\u001b[1mtrain: \u001b[0m/mnt/e/objects365/images/train/patch1_b/objects365_v1_00080451.jpg: 2 duplicate labels removed\n",
      "\u001b[34m\u001b[1mtrain: \u001b[0m/mnt/e/objects365/images/train/patch1_b/objects365_v1_00080479.jpg: 7 duplicate labels removed\n",
      "\u001b[34m\u001b[1mtrain: \u001b[0m/mnt/e/objects365/images/train/patch1_b/objects365_v1_00080489.jpg: 1 duplicate labels removed\n",
      "\u001b[34m\u001b[1mtrain: \u001b[0m/mnt/e/objects365/images/train/patch1_b/objects365_v1_00080509.jpg: 6 duplicate labels removed\n",
      "\u001b[34m\u001b[1mtrain: \u001b[0m/mnt/e/objects365/images/train/patch1_b/objects365_v1_00080615.jpg: 1 duplicate labels removed\n",
      "\u001b[34m\u001b[1mtrain: \u001b[0m/mnt/e/objects365/images/train/patch1_b/objects365_v1_00080813.jpg: 5 duplicate labels removed\n",
      "\u001b[34m\u001b[1mtrain: \u001b[0m/mnt/e/objects365/images/train/patch1_b/objects365_v1_00080935.jpg: 8 duplicate labels removed\n",
      "\u001b[34m\u001b[1mtrain: \u001b[0m/mnt/e/objects365/images/train/patch1_b/objects365_v1_00080966.jpg: 9 duplicate labels removed\n",
      "\u001b[34m\u001b[1mtrain: \u001b[0m/mnt/e/objects365/images/train/patch1_b/objects365_v1_00080984.jpg: 2 duplicate labels removed\n",
      "\u001b[34m\u001b[1mtrain: \u001b[0m/mnt/e/objects365/images/train/patch1_b/objects365_v1_00081003.jpg: 12 duplicate labels removed\n",
      "\u001b[34m\u001b[1mtrain: \u001b[0m/mnt/e/objects365/images/train/patch1_b/objects365_v1_00081329.jpg: 22 duplicate labels removed\n",
      "\u001b[34m\u001b[1mtrain: \u001b[0m/mnt/e/objects365/images/train/patch1_b/objects365_v1_00081354.jpg: 1 duplicate labels removed\n",
      "\u001b[34m\u001b[1mtrain: \u001b[0m/mnt/e/objects365/images/train/patch1_b/objects365_v1_00081398.jpg: 7 duplicate labels removed\n",
      "\u001b[34m\u001b[1mtrain: \u001b[0m/mnt/e/objects365/images/train/patch1_b/objects365_v1_00081410.jpg: 4 duplicate labels removed\n",
      "\u001b[34m\u001b[1mtrain: \u001b[0m/mnt/e/objects365/images/train/patch1_b/objects365_v1_00081508.jpg: 7 duplicate labels removed\n",
      "\u001b[34m\u001b[1mtrain: \u001b[0m/mnt/e/objects365/images/train/patch1_b/objects365_v1_00081515.jpg: 4 duplicate labels removed\n",
      "\u001b[34m\u001b[1mtrain: \u001b[0m/mnt/e/objects365/images/train/patch1_b/objects365_v1_00081671.jpg: 9 duplicate labels removed\n",
      "\u001b[34m\u001b[1mtrain: \u001b[0m/mnt/e/objects365/images/train/patch1_b/objects365_v1_00081926.jpg: 3 duplicate labels removed\n",
      "\u001b[34m\u001b[1mtrain: \u001b[0m/mnt/e/objects365/images/train/patch1_b/objects365_v1_00081946.jpg: 4 duplicate labels removed\n",
      "\u001b[34m\u001b[1mtrain: \u001b[0m/mnt/e/objects365/images/train/patch1_b/objects365_v1_00082424.jpg: 1 duplicate labels removed\n",
      "\u001b[34m\u001b[1mtrain: \u001b[0m/mnt/e/objects365/images/train/patch1_b/objects365_v1_00082472.jpg: 16 duplicate labels removed\n",
      "\u001b[34m\u001b[1mtrain: \u001b[0m/mnt/e/objects365/images/train/patch1_b/objects365_v1_00082545.jpg: 2 duplicate labels removed\n",
      "\u001b[34m\u001b[1mtrain: \u001b[0m/mnt/e/objects365/images/train/patch1_b/objects365_v1_00082580.jpg: 1 duplicate labels removed\n",
      "\u001b[34m\u001b[1mtrain: \u001b[0m/mnt/e/objects365/images/train/patch1_b/objects365_v1_00082693.jpg: 8 duplicate labels removed\n",
      "\u001b[34m\u001b[1mtrain: \u001b[0m/mnt/e/objects365/images/train/patch1_b/objects365_v1_00082908.jpg: 14 duplicate labels removed\n",
      "\u001b[34m\u001b[1mtrain: \u001b[0m/mnt/e/objects365/images/train/patch1_b/objects365_v1_00082942.jpg: 8 duplicate labels removed\n",
      "\u001b[34m\u001b[1mtrain: \u001b[0m/mnt/e/objects365/images/train/patch1_b/objects365_v1_00082969.jpg: 4 duplicate labels removed\n",
      "\u001b[34m\u001b[1mtrain: \u001b[0m/mnt/e/objects365/images/train/patch1_b/objects365_v1_00083045.jpg: 8 duplicate labels removed\n",
      "\u001b[34m\u001b[1mtrain: \u001b[0m/mnt/e/objects365/images/train/patch1_b/objects365_v1_00083114.jpg: 13 duplicate labels removed\n",
      "\u001b[34m\u001b[1mtrain: \u001b[0m/mnt/e/objects365/images/train/patch1_b/objects365_v1_00083164.jpg: 2 duplicate labels removed\n",
      "\u001b[34m\u001b[1mtrain: \u001b[0m/mnt/e/objects365/images/train/patch1_b/objects365_v1_00083381.jpg: 15 duplicate labels removed\n",
      "\u001b[34m\u001b[1mtrain: \u001b[0m/mnt/e/objects365/images/train/patch1_b/objects365_v1_00083595.jpg: 15 duplicate labels removed\n",
      "\u001b[34m\u001b[1mtrain: \u001b[0m/mnt/e/objects365/images/train/patch1_b/objects365_v1_00083771.jpg: 9 duplicate labels removed\n",
      "\u001b[34m\u001b[1mtrain: \u001b[0m/mnt/e/objects365/images/train/patch1_b/objects365_v1_00083777.jpg: 7 duplicate labels removed\n",
      "\u001b[34m\u001b[1mtrain: \u001b[0m/mnt/e/objects365/images/train/patch1_b/objects365_v1_00083929.jpg: 7 duplicate labels removed\n",
      "\u001b[34m\u001b[1mtrain: \u001b[0m/mnt/e/objects365/images/train/patch1_b/objects365_v1_00084000.jpg: 5 duplicate labels removed\n",
      "\u001b[34m\u001b[1mtrain: \u001b[0m/mnt/e/objects365/images/train/patch1_b/objects365_v1_00084289.jpg: 2 duplicate labels removed\n",
      "\u001b[34m\u001b[1mtrain: \u001b[0m/mnt/e/objects365/images/train/patch1_b/objects365_v1_00084329.jpg: 9 duplicate labels removed\n",
      "\u001b[34m\u001b[1mtrain: \u001b[0m/mnt/e/objects365/images/train/patch1_b/objects365_v1_00084472.jpg: 13 duplicate labels removed\n",
      "\u001b[34m\u001b[1mtrain: \u001b[0m/mnt/e/objects365/images/train/patch1_b/objects365_v1_00084527.jpg: 1 duplicate labels removed\n",
      "\u001b[34m\u001b[1mtrain: \u001b[0m/mnt/e/objects365/images/train/patch1_b/objects365_v1_00084617.jpg: 1 duplicate labels removed\n",
      "\u001b[34m\u001b[1mtrain: \u001b[0m/mnt/e/objects365/images/train/patch1_b/objects365_v1_00084717.jpg: 1 duplicate labels removed\n",
      "\u001b[34m\u001b[1mtrain: \u001b[0m/mnt/e/objects365/images/train/patch1_b/objects365_v1_00084930.jpg: 3 duplicate labels removed\n",
      "\u001b[34m\u001b[1mtrain: \u001b[0m/mnt/e/objects365/images/train/patch1_b/objects365_v1_00084980.jpg: 1 duplicate labels removed\n",
      "\u001b[34m\u001b[1mtrain: \u001b[0m/mnt/e/objects365/images/train/patch1_b/objects365_v1_00085083.jpg: 3 duplicate labels removed\n",
      "\u001b[34m\u001b[1mtrain: \u001b[0m/mnt/e/objects365/images/train/patch1_b/objects365_v1_00085295.jpg: 1 duplicate labels removed\n",
      "\u001b[34m\u001b[1mtrain: \u001b[0m/mnt/e/objects365/images/train/patch1_b/objects365_v1_00085339.jpg: 3 duplicate labels removed\n",
      "\u001b[34m\u001b[1mtrain: \u001b[0m/mnt/e/objects365/images/train/patch1_b/objects365_v1_00085462.jpg: 2 duplicate labels removed\n",
      "\u001b[34m\u001b[1mtrain: \u001b[0m/mnt/e/objects365/images/train/patch1_b/objects365_v1_00085797.jpg: 4 duplicate labels removed\n",
      "\u001b[34m\u001b[1mtrain: \u001b[0m/mnt/e/objects365/images/train/patch1_b/objects365_v1_00085854.jpg: 23 duplicate labels removed\n",
      "\u001b[34m\u001b[1mtrain: \u001b[0m/mnt/e/objects365/images/train/patch1_b/objects365_v1_00085903.jpg: 9 duplicate labels removed\n",
      "\u001b[34m\u001b[1mtrain: \u001b[0m/mnt/e/objects365/images/train/patch1_b/objects365_v1_00086137.jpg: 2 duplicate labels removed\n",
      "\u001b[34m\u001b[1mtrain: \u001b[0m/mnt/e/objects365/images/train/patch1_b/objects365_v1_00086249.jpg: 1 duplicate labels removed\n",
      "\u001b[34m\u001b[1mtrain: \u001b[0m/mnt/e/objects365/images/train/patch1_b/objects365_v1_00086258.jpg: 16 duplicate labels removed\n",
      "\u001b[34m\u001b[1mtrain: \u001b[0m/mnt/e/objects365/images/train/patch1_b/objects365_v1_00086476.jpg: 8 duplicate labels removed\n",
      "\u001b[34m\u001b[1mtrain: \u001b[0m/mnt/e/objects365/images/train/patch1_b/objects365_v1_00086498.jpg: 5 duplicate labels removed\n",
      "\u001b[34m\u001b[1mtrain: \u001b[0m/mnt/e/objects365/images/train/patch1_b/objects365_v1_00086584.jpg: 4 duplicate labels removed\n",
      "\u001b[34m\u001b[1mtrain: \u001b[0m/mnt/e/objects365/images/train/patch1_b/objects365_v1_00086692.jpg: 2 duplicate labels removed\n",
      "\u001b[34m\u001b[1mtrain: \u001b[0m/mnt/e/objects365/images/train/patch1_b/objects365_v1_00086703.jpg: 4 duplicate labels removed\n",
      "\u001b[34m\u001b[1mtrain: \u001b[0m/mnt/e/objects365/images/train/patch1_b/objects365_v1_00086705.jpg: 4 duplicate labels removed\n",
      "\u001b[34m\u001b[1mtrain: \u001b[0m/mnt/e/objects365/images/train/patch1_b/objects365_v1_00086713.jpg: 9 duplicate labels removed\n",
      "\u001b[34m\u001b[1mtrain: \u001b[0m/mnt/e/objects365/images/train/patch1_b/objects365_v1_00086742.jpg: 6 duplicate labels removed\n",
      "\u001b[34m\u001b[1mtrain: \u001b[0m/mnt/e/objects365/images/train/patch1_b/objects365_v1_00086776.jpg: 10 duplicate labels removed\n",
      "\u001b[34m\u001b[1mtrain: \u001b[0m/mnt/e/objects365/images/train/patch1_b/objects365_v1_00086794.jpg: 7 duplicate labels removed\n",
      "\u001b[34m\u001b[1mtrain: \u001b[0m/mnt/e/objects365/images/train/patch1_b/objects365_v1_00086855.jpg: 1 duplicate labels removed\n",
      "\u001b[34m\u001b[1mtrain: \u001b[0m/mnt/e/objects365/images/train/patch1_b/objects365_v1_00086867.jpg: 5 duplicate labels removed\n",
      "\u001b[34m\u001b[1mtrain: \u001b[0m/mnt/e/objects365/images/train/patch1_b/objects365_v1_00087025.jpg: 8 duplicate labels removed\n",
      "\u001b[34m\u001b[1mtrain: \u001b[0m/mnt/e/objects365/images/train/patch1_b/objects365_v1_00087120.jpg: 9 duplicate labels removed\n",
      "\u001b[34m\u001b[1mtrain: \u001b[0m/mnt/e/objects365/images/train/patch1_b/objects365_v1_00087294.jpg: 9 duplicate labels removed\n",
      "\u001b[34m\u001b[1mtrain: \u001b[0m/mnt/e/objects365/images/train/patch1_b/objects365_v1_00087404.jpg: 11 duplicate labels removed\n",
      "\u001b[34m\u001b[1mtrain: \u001b[0m/mnt/e/objects365/images/train/patch1_b/objects365_v1_00087454.jpg: 5 duplicate labels removed\n",
      "\u001b[34m\u001b[1mtrain: \u001b[0m/mnt/e/objects365/images/train/patch1_b/objects365_v1_00087473.jpg: 7 duplicate labels removed\n",
      "\u001b[34m\u001b[1mtrain: \u001b[0m/mnt/e/objects365/images/train/patch1_b/objects365_v1_00087644.jpg: 1 duplicate labels removed\n",
      "\u001b[34m\u001b[1mtrain: \u001b[0m/mnt/e/objects365/images/train/patch1_b/objects365_v1_00087845.jpg: 8 duplicate labels removed\n",
      "\u001b[34m\u001b[1mtrain: \u001b[0m/mnt/e/objects365/images/train/patch1_b/objects365_v1_00087913.jpg: 6 duplicate labels removed\n",
      "\u001b[34m\u001b[1mtrain: \u001b[0m/mnt/e/objects365/images/train/patch1_b/objects365_v1_00088025.jpg: 11 duplicate labels removed\n",
      "\u001b[34m\u001b[1mtrain: \u001b[0m/mnt/e/objects365/images/train/patch1_b/objects365_v1_00088054.jpg: 13 duplicate labels removed\n",
      "\u001b[34m\u001b[1mtrain: \u001b[0m/mnt/e/objects365/images/train/patch1_b/objects365_v1_00088065.jpg: 2 duplicate labels removed\n",
      "\u001b[34m\u001b[1mtrain: \u001b[0m/mnt/e/objects365/images/train/patch1_b/objects365_v1_00088286.jpg: 1 duplicate labels removed\n",
      "\u001b[34m\u001b[1mtrain: \u001b[0m/mnt/e/objects365/images/train/patch1_b/objects365_v1_00088368.jpg: 2 duplicate labels removed\n",
      "\u001b[34m\u001b[1mtrain: \u001b[0m/mnt/e/objects365/images/train/patch1_b/objects365_v1_00088674.jpg: 15 duplicate labels removed\n",
      "\u001b[34m\u001b[1mtrain: \u001b[0m/mnt/e/objects365/images/train/patch1_b/objects365_v1_00088731.jpg: 2 duplicate labels removed\n",
      "\u001b[34m\u001b[1mtrain: \u001b[0m/mnt/e/objects365/images/train/patch1_b/objects365_v1_00088783.jpg: 1 duplicate labels removed\n",
      "\u001b[34m\u001b[1mtrain: \u001b[0m/mnt/e/objects365/images/train/patch1_b/objects365_v1_00089025.jpg: 16 duplicate labels removed\n",
      "\u001b[34m\u001b[1mtrain: \u001b[0m/mnt/e/objects365/images/train/patch1_b/objects365_v1_00089046.jpg: 5 duplicate labels removed\n",
      "\u001b[34m\u001b[1mtrain: \u001b[0m/mnt/e/objects365/images/train/patch1_b/objects365_v1_00089054.jpg: 6 duplicate labels removed\n",
      "\u001b[34m\u001b[1mtrain: \u001b[0m/mnt/e/objects365/images/train/patch1_b/objects365_v1_00089112.jpg: 11 duplicate labels removed\n",
      "\u001b[34m\u001b[1mtrain: \u001b[0m/mnt/e/objects365/images/train/patch1_b/objects365_v1_00089263.jpg: 1 duplicate labels removed\n",
      "\u001b[34m\u001b[1mtrain: \u001b[0m/mnt/e/objects365/images/train/patch1_b/objects365_v1_00089294.jpg: 3 duplicate labels removed\n",
      "\u001b[34m\u001b[1mtrain: \u001b[0m/mnt/e/objects365/images/train/patch1_b/objects365_v1_00089332.jpg: 4 duplicate labels removed\n",
      "\u001b[34m\u001b[1mtrain: \u001b[0m/mnt/e/objects365/images/train/patch1_b/objects365_v1_00089430.jpg: 1 duplicate labels removed\n",
      "\u001b[34m\u001b[1mtrain: \u001b[0m/mnt/e/objects365/images/train/patch1_b/objects365_v1_00089614.jpg: 6 duplicate labels removed\n",
      "\u001b[34m\u001b[1mtrain: \u001b[0m/mnt/e/objects365/images/train/patch1_b/objects365_v1_00089706.jpg: 1 duplicate labels removed\n",
      "\u001b[34m\u001b[1mtrain: \u001b[0m/mnt/e/objects365/images/train/patch1_b/objects365_v1_00090148.jpg: 4 duplicate labels removed\n",
      "\u001b[34m\u001b[1mtrain: \u001b[0m/mnt/e/objects365/images/train/patch1_b/objects365_v1_00090191.jpg: 11 duplicate labels removed\n",
      "\u001b[34m\u001b[1mtrain: \u001b[0m/mnt/e/objects365/images/train/patch1_b/objects365_v1_00090205.jpg: 5 duplicate labels removed\n",
      "\u001b[34m\u001b[1mtrain: \u001b[0m/mnt/e/objects365/images/train/patch1_b/objects365_v1_00090208.jpg: 4 duplicate labels removed\n",
      "\u001b[34m\u001b[1mtrain: \u001b[0m/mnt/e/objects365/images/train/patch1_b/objects365_v1_00090211.jpg: 10 duplicate labels removed\n",
      "\u001b[34m\u001b[1mtrain: \u001b[0m/mnt/e/objects365/images/train/patch1_b/objects365_v1_00090225.jpg: 3 duplicate labels removed\n",
      "\u001b[34m\u001b[1mtrain: \u001b[0m/mnt/e/objects365/images/train/patch1_b/objects365_v1_00090316.jpg: 1 duplicate labels removed\n",
      "\u001b[34m\u001b[1mtrain: \u001b[0m/mnt/e/objects365/images/train/patch1_b/objects365_v1_00090429.jpg: 7 duplicate labels removed\n",
      "\u001b[34m\u001b[1mtrain: \u001b[0m/mnt/e/objects365/images/train/patch1_b/objects365_v1_00090525.jpg: 2 duplicate labels removed\n",
      "\u001b[34m\u001b[1mtrain: \u001b[0m/mnt/e/objects365/images/train/patch1_b/objects365_v1_00090752.jpg: 7 duplicate labels removed\n",
      "\u001b[34m\u001b[1mtrain: \u001b[0m/mnt/e/objects365/images/train/patch1_b/objects365_v1_00090868.jpg: 7 duplicate labels removed\n",
      "\u001b[34m\u001b[1mtrain: \u001b[0m/mnt/e/objects365/images/train/patch1_b/objects365_v1_00090915.jpg: 11 duplicate labels removed\n",
      "\u001b[34m\u001b[1mtrain: \u001b[0m/mnt/e/objects365/images/train/patch1_b/objects365_v1_00090988.jpg: 1 duplicate labels removed\n",
      "\u001b[34m\u001b[1mtrain: \u001b[0m/mnt/e/objects365/images/train/patch1_b/objects365_v1_00091044.jpg: 7 duplicate labels removed\n",
      "\u001b[34m\u001b[1mtrain: \u001b[0m/mnt/e/objects365/images/train/patch1_b/objects365_v1_00091077.jpg: 1 duplicate labels removed\n",
      "\u001b[34m\u001b[1mtrain: \u001b[0m/mnt/e/objects365/images/train/patch1_b/objects365_v1_00091080.jpg: 1 duplicate labels removed\n",
      "\u001b[34m\u001b[1mtrain: \u001b[0m/mnt/e/objects365/images/train/patch1_b/objects365_v1_00091101.jpg: 5 duplicate labels removed\n",
      "\u001b[34m\u001b[1mtrain: \u001b[0m/mnt/e/objects365/images/train/patch1_b/objects365_v1_00091184.jpg: 1 duplicate labels removed\n",
      "\u001b[34m\u001b[1mtrain: \u001b[0m/mnt/e/objects365/images/train/patch1_b/objects365_v1_00091202.jpg: 4 duplicate labels removed\n",
      "\u001b[34m\u001b[1mtrain: \u001b[0m/mnt/e/objects365/images/train/patch1_b/objects365_v1_00091283.jpg: 1 duplicate labels removed\n",
      "\u001b[34m\u001b[1mtrain: \u001b[0m/mnt/e/objects365/images/train/patch1_b/objects365_v1_00091315.jpg: 4 duplicate labels removed\n",
      "\u001b[34m\u001b[1mtrain: \u001b[0m/mnt/e/objects365/images/train/patch1_b/objects365_v1_00091493.jpg: 18 duplicate labels removed\n"
     ]
    },
    {
     "name": "stderr",
     "output_type": "stream",
     "text": [
      "\n"
     ]
    },
    {
     "name": "stdout",
     "output_type": "stream",
     "text": [
      "\u001b[34m\u001b[1mtrain: \u001b[0mNew cache created: /mnt/e/objects365/labels/train/patch1_b.cache\n",
      "\u001b[34m\u001b[1mval: \u001b[0mFast image access ✅ (ping: 2.0±0.2 ms, read: 9.7±3.4 MB/s, size: 84.1 KB)\n"
     ]
    },
    {
     "name": "stderr",
     "output_type": "stream",
     "text": [
      "\u001b[34m\u001b[1mval: \u001b[0mScanning /mnt/e/objects365/labels/val/patch0_b.cache... 655 images, 0 backgrounds, 0 corrupt: 100%|██████████| 655/655 [00:00<?, ?it/s]"
     ]
    },
    {
     "name": "stdout",
     "output_type": "stream",
     "text": [
      "\u001b[34m\u001b[1mval: \u001b[0m/mnt/e/objects365/images/val/patch0_b/objects365_v1_00023312.jpg: 25 duplicate labels removed\n",
      "\u001b[34m\u001b[1mval: \u001b[0m/mnt/e/objects365/images/val/patch0_b/objects365_v1_00024495.jpg: 1 duplicate labels removed\n",
      "\u001b[34m\u001b[1mval: \u001b[0m/mnt/e/objects365/images/val/patch0_b/objects365_v1_00025340.jpg: 17 duplicate labels removed\n",
      "\u001b[34m\u001b[1mval: \u001b[0m/mnt/e/objects365/images/val/patch0_b/objects365_v1_00026920.jpg: 2 duplicate labels removed\n",
      "\u001b[34m\u001b[1mval: \u001b[0m/mnt/e/objects365/images/val/patch0_b/objects365_v1_00028356.jpg: 1 duplicate labels removed\n",
      "\u001b[34m\u001b[1mval: \u001b[0m/mnt/e/objects365/images/val/patch0_b/objects365_v1_00029738.jpg: 1 duplicate labels removed\n",
      "\u001b[34m\u001b[1mval: \u001b[0m/mnt/e/objects365/images/val/patch0_b/objects365_v1_00030048.jpg: 1 duplicate labels removed\n",
      "\u001b[34m\u001b[1mval: \u001b[0m/mnt/e/objects365/images/val/patch0_b/objects365_v1_00031248.jpg: 1 duplicate labels removed\n",
      "\u001b[34m\u001b[1mval: \u001b[0m/mnt/e/objects365/images/val/patch0_b/objects365_v1_00031319.jpg: 1 duplicate labels removed\n",
      "\u001b[34m\u001b[1mval: \u001b[0m/mnt/e/objects365/images/val/patch0_b/objects365_v1_00031809.jpg: 2 duplicate labels removed\n",
      "\u001b[34m\u001b[1mval: \u001b[0m/mnt/e/objects365/images/val/patch0_b/objects365_v1_00034961.jpg: 1 duplicate labels removed\n",
      "\u001b[34m\u001b[1mval: \u001b[0m/mnt/e/objects365/images/val/patch0_b/objects365_v1_00036667.jpg: 1 duplicate labels removed\n",
      "\u001b[34m\u001b[1mval: \u001b[0m/mnt/e/objects365/images/val/patch0_b/objects365_v1_00037085.jpg: 1 duplicate labels removed\n",
      "\u001b[34m\u001b[1mval: \u001b[0m/mnt/e/objects365/images/val/patch0_b/objects365_v1_00039306.jpg: 2 duplicate labels removed\n",
      "\u001b[34m\u001b[1mval: \u001b[0m/mnt/e/objects365/images/val/patch0_b/objects365_v1_00041769.jpg: 3 duplicate labels removed\n",
      "\u001b[34m\u001b[1mval: \u001b[0m/mnt/e/objects365/images/val/patch0_b/objects365_v1_00042238.jpg: 1 duplicate labels removed\n",
      "\u001b[34m\u001b[1mval: \u001b[0m/mnt/e/objects365/images/val/patch0_b/objects365_v1_00044082.jpg: 1 duplicate labels removed\n"
     ]
    },
    {
     "name": "stderr",
     "output_type": "stream",
     "text": [
      "\n"
     ]
    },
    {
     "name": "stdout",
     "output_type": "stream",
     "text": [
      "\u001b[34m\u001b[1moptimizer:\u001b[0m AdamW(lr=0.01, momentum=0.937) with parameter groups 81 weight(decay=0.0), 88 weight(decay=0.0005), 87 bias(decay=0.0)\n",
      "Image sizes 640 train, 640 val\n",
      "Using 4 dataloader workers\n",
      "Logging results to \u001b[1mruns/train/exp_fastcache\u001b[0m\n",
      "Starting training for 100 epochs...\n",
      "\n",
      "      Epoch    GPU_mem   box_loss   cls_loss   dfl_loss  Instances       Size\n"
     ]
    },
    {
     "name": "stderr",
     "output_type": "stream",
     "text": [
      "      1/100      9.37G      1.754      2.348      1.504         38        640: 100%|██████████| 1086/1086 [02:33<00:00,  7.06it/s]\n",
      "                 Class     Images  Instances      Box(P          R      mAP50  mAP50-95): 100%|██████████| 21/21 [00:03<00:00,  6.21it/s]\n"
     ]
    },
    {
     "name": "stdout",
     "output_type": "stream",
     "text": [
      "                   all        655      11450      0.416     0.0906      0.086      0.049\n",
      "\n",
      "      Epoch    GPU_mem   box_loss   cls_loss   dfl_loss  Instances       Size\n"
     ]
    },
    {
     "name": "stderr",
     "output_type": "stream",
     "text": [
      "      2/100      9.39G      1.737      2.307      1.489         24        832: 100%|██████████| 1086/1086 [02:22<00:00,  7.62it/s]\n",
      "                 Class     Images  Instances      Box(P          R      mAP50  mAP50-95): 100%|██████████| 21/21 [00:03<00:00,  5.66it/s]\n"
     ]
    },
    {
     "name": "stdout",
     "output_type": "stream",
     "text": [
      "                   all        655      11450      0.454     0.0921     0.0919      0.053\n",
      "\n",
      "      Epoch    GPU_mem   box_loss   cls_loss   dfl_loss  Instances       Size\n"
     ]
    },
    {
     "name": "stderr",
     "output_type": "stream",
     "text": [
      "      3/100      9.39G      1.731      2.297      1.486         12        864: 100%|██████████| 1086/1086 [02:18<00:00,  7.81it/s]\n",
      "                 Class     Images  Instances      Box(P          R      mAP50  mAP50-95): 100%|██████████| 21/21 [00:05<00:00,  3.95it/s]\n"
     ]
    },
    {
     "name": "stdout",
     "output_type": "stream",
     "text": [
      "                   all        655      11450      0.441     0.0908      0.098     0.0563\n",
      "\n",
      "      Epoch    GPU_mem   box_loss   cls_loss   dfl_loss  Instances       Size\n"
     ]
    },
    {
     "name": "stderr",
     "output_type": "stream",
     "text": [
      "      4/100      9.39G      1.736      2.289      1.479         54        736: 100%|██████████| 1086/1086 [02:16<00:00,  7.95it/s]\n",
      "                 Class     Images  Instances      Box(P          R      mAP50  mAP50-95): 100%|██████████| 21/21 [00:03<00:00,  5.89it/s]\n"
     ]
    },
    {
     "name": "stdout",
     "output_type": "stream",
     "text": [
      "                   all        655      11450      0.422      0.101      0.098      0.056\n",
      "\n",
      "      Epoch    GPU_mem   box_loss   cls_loss   dfl_loss  Instances       Size\n"
     ]
    },
    {
     "name": "stderr",
     "output_type": "stream",
     "text": [
      "      5/100       9.4G      1.735      2.289      1.483         25        640: 100%|██████████| 1086/1086 [02:15<00:00,  8.00it/s]\n",
      "                 Class     Images  Instances      Box(P          R      mAP50  mAP50-95): 100%|██████████| 21/21 [00:03<00:00,  6.12it/s]\n"
     ]
    },
    {
     "name": "stdout",
     "output_type": "stream",
     "text": [
      "                   all        655      11450      0.454     0.0947      0.101     0.0593\n",
      "\n",
      "      Epoch    GPU_mem   box_loss   cls_loss   dfl_loss  Instances       Size\n"
     ]
    },
    {
     "name": "stderr",
     "output_type": "stream",
     "text": [
      "      6/100       9.4G      1.735      2.284      1.481         99        608: 100%|██████████| 1086/1086 [02:16<00:00,  7.96it/s]\n",
      "                 Class     Images  Instances      Box(P          R      mAP50  mAP50-95): 100%|██████████| 21/21 [00:03<00:00,  6.08it/s]\n"
     ]
    },
    {
     "name": "stdout",
     "output_type": "stream",
     "text": [
      "                   all        655      11450      0.427      0.106        0.1     0.0591\n",
      "\n",
      "      Epoch    GPU_mem   box_loss   cls_loss   dfl_loss  Instances       Size\n"
     ]
    },
    {
     "name": "stderr",
     "output_type": "stream",
     "text": [
      "      7/100      9.41G      1.739      2.284      1.484         52        640: 100%|██████████| 1086/1086 [02:15<00:00,  8.02it/s]\n",
      "                 Class     Images  Instances      Box(P          R      mAP50  mAP50-95): 100%|██████████| 21/21 [00:03<00:00,  5.97it/s]\n"
     ]
    },
    {
     "name": "stdout",
     "output_type": "stream",
     "text": [
      "                   all        655      11450      0.466     0.0924      0.098     0.0567\n",
      "\n",
      "      Epoch    GPU_mem   box_loss   cls_loss   dfl_loss  Instances       Size\n"
     ]
    },
    {
     "name": "stderr",
     "output_type": "stream",
     "text": [
      "      8/100      9.41G      1.738      2.282      1.479         25        704: 100%|██████████| 1086/1086 [02:14<00:00,  8.05it/s]\n",
      "                 Class     Images  Instances      Box(P          R      mAP50  mAP50-95): 100%|██████████| 21/21 [00:03<00:00,  5.94it/s]\n"
     ]
    },
    {
     "name": "stdout",
     "output_type": "stream",
     "text": [
      "                   all        655      11450      0.431     0.0986     0.0978     0.0582\n",
      "\n",
      "      Epoch    GPU_mem   box_loss   cls_loss   dfl_loss  Instances       Size\n"
     ]
    },
    {
     "name": "stderr",
     "output_type": "stream",
     "text": [
      "      9/100      9.41G      1.734      2.279      1.479         45        480: 100%|██████████| 1086/1086 [02:16<00:00,  7.97it/s]\n",
      "                 Class     Images  Instances      Box(P          R      mAP50  mAP50-95): 100%|██████████| 21/21 [00:03<00:00,  6.00it/s]\n"
     ]
    },
    {
     "name": "stdout",
     "output_type": "stream",
     "text": [
      "                   all        655      11450      0.463     0.0886     0.0932     0.0548\n",
      "\n",
      "      Epoch    GPU_mem   box_loss   cls_loss   dfl_loss  Instances       Size\n"
     ]
    },
    {
     "name": "stderr",
     "output_type": "stream",
     "text": [
      "     10/100      9.41G      1.738      2.282      1.479         22        352: 100%|██████████| 1086/1086 [02:15<00:00,  8.01it/s]\n",
      "                 Class     Images  Instances      Box(P          R      mAP50  mAP50-95): 100%|██████████| 21/21 [00:03<00:00,  5.96it/s]\n"
     ]
    },
    {
     "name": "stdout",
     "output_type": "stream",
     "text": [
      "                   all        655      11450      0.458     0.0975     0.0989     0.0572\n",
      "\n",
      "      Epoch    GPU_mem   box_loss   cls_loss   dfl_loss  Instances       Size\n"
     ]
    },
    {
     "name": "stderr",
     "output_type": "stream",
     "text": [
      "     11/100      9.41G      1.744      2.275      1.475         34        384: 100%|██████████| 1086/1086 [02:12<00:00,  8.18it/s]\n",
      "                 Class     Images  Instances      Box(P          R      mAP50  mAP50-95): 100%|██████████| 21/21 [00:03<00:00,  5.64it/s]\n"
     ]
    },
    {
     "name": "stdout",
     "output_type": "stream",
     "text": [
      "                   all        655      11450      0.473     0.0909     0.0992      0.058\n",
      "\n",
      "      Epoch    GPU_mem   box_loss   cls_loss   dfl_loss  Instances       Size\n"
     ]
    },
    {
     "name": "stderr",
     "output_type": "stream",
     "text": [
      "     12/100      9.43G      1.742      2.269      1.476         13        512: 100%|██████████| 1086/1086 [02:16<00:00,  7.97it/s]\n",
      "                 Class     Images  Instances      Box(P          R      mAP50  mAP50-95): 100%|██████████| 21/21 [00:05<00:00,  3.83it/s]\n"
     ]
    },
    {
     "name": "stdout",
     "output_type": "stream",
     "text": [
      "                   all        655      11450      0.437      0.103      0.103     0.0602\n",
      "\n",
      "      Epoch    GPU_mem   box_loss   cls_loss   dfl_loss  Instances       Size\n"
     ]
    },
    {
     "name": "stderr",
     "output_type": "stream",
     "text": [
      "     13/100      9.43G      1.732      2.269      1.478          6        672: 100%|██████████| 1086/1086 [02:13<00:00,  8.16it/s]\n",
      "                 Class     Images  Instances      Box(P          R      mAP50  mAP50-95): 100%|██████████| 21/21 [00:03<00:00,  6.01it/s]\n"
     ]
    },
    {
     "name": "stdout",
     "output_type": "stream",
     "text": [
      "                   all        655      11450      0.424      0.104      0.102     0.0586\n",
      "\n",
      "      Epoch    GPU_mem   box_loss   cls_loss   dfl_loss  Instances       Size\n"
     ]
    },
    {
     "name": "stderr",
     "output_type": "stream",
     "text": [
      "     14/100      9.43G       1.73      2.269      1.481         58        576: 100%|██████████| 1086/1086 [02:13<00:00,  8.16it/s]\n",
      "                 Class     Images  Instances      Box(P          R      mAP50  mAP50-95): 100%|██████████| 21/21 [00:03<00:00,  6.00it/s]\n"
     ]
    },
    {
     "name": "stdout",
     "output_type": "stream",
     "text": [
      "                   all        655      11450      0.452      0.099     0.0959     0.0551\n",
      "\n",
      "      Epoch    GPU_mem   box_loss   cls_loss   dfl_loss  Instances       Size\n"
     ]
    },
    {
     "name": "stderr",
     "output_type": "stream",
     "text": [
      "     15/100      9.43G       1.73      2.263      1.477         49        896: 100%|██████████| 1086/1086 [02:13<00:00,  8.15it/s]\n",
      "                 Class     Images  Instances      Box(P          R      mAP50  mAP50-95): 100%|██████████| 21/21 [00:03<00:00,  5.93it/s]\n"
     ]
    },
    {
     "name": "stdout",
     "output_type": "stream",
     "text": [
      "                   all        655      11450      0.455     0.0993      0.103     0.0603\n",
      "\n",
      "      Epoch    GPU_mem   box_loss   cls_loss   dfl_loss  Instances       Size\n"
     ]
    },
    {
     "name": "stderr",
     "output_type": "stream",
     "text": [
      "     16/100      9.43G      1.727      2.256      1.472         70        896: 100%|██████████| 1086/1086 [02:12<00:00,  8.18it/s]\n",
      "                 Class     Images  Instances      Box(P          R      mAP50  mAP50-95): 100%|██████████| 21/21 [00:03<00:00,  5.77it/s]\n"
     ]
    },
    {
     "name": "stdout",
     "output_type": "stream",
     "text": [
      "                   all        655      11450       0.42      0.108      0.102     0.0602\n",
      "\n",
      "      Epoch    GPU_mem   box_loss   cls_loss   dfl_loss  Instances       Size\n"
     ]
    },
    {
     "name": "stderr",
     "output_type": "stream",
     "text": [
      "     17/100      9.43G       1.73      2.268      1.475         85        384: 100%|██████████| 1086/1086 [02:13<00:00,  8.13it/s]\n",
      "                 Class     Images  Instances      Box(P          R      mAP50  mAP50-95): 100%|██████████| 21/21 [00:03<00:00,  5.97it/s]\n"
     ]
    },
    {
     "name": "stdout",
     "output_type": "stream",
     "text": [
      "                   all        655      11450      0.525     0.0897     0.0998      0.059\n",
      "\n",
      "      Epoch    GPU_mem   box_loss   cls_loss   dfl_loss  Instances       Size\n"
     ]
    },
    {
     "name": "stderr",
     "output_type": "stream",
     "text": [
      "     18/100      9.43G      1.729      2.247      1.467         45        480: 100%|██████████| 1086/1086 [02:12<00:00,  8.18it/s]\n",
      "                 Class     Images  Instances      Box(P          R      mAP50  mAP50-95): 100%|██████████| 21/21 [00:03<00:00,  6.16it/s]\n"
     ]
    },
    {
     "name": "stdout",
     "output_type": "stream",
     "text": [
      "                   all        655      11450       0.49     0.0988      0.113     0.0658\n",
      "\n",
      "      Epoch    GPU_mem   box_loss   cls_loss   dfl_loss  Instances       Size\n"
     ]
    },
    {
     "name": "stderr",
     "output_type": "stream",
     "text": [
      "     19/100      9.43G      1.722      2.255      1.474         16        928: 100%|██████████| 1086/1086 [02:13<00:00,  8.14it/s]\n",
      "                 Class     Images  Instances      Box(P          R      mAP50  mAP50-95): 100%|██████████| 21/21 [00:03<00:00,  6.30it/s]\n"
     ]
    },
    {
     "name": "stdout",
     "output_type": "stream",
     "text": [
      "                   all        655      11450      0.463      0.102      0.102     0.0608\n",
      "\n",
      "      Epoch    GPU_mem   box_loss   cls_loss   dfl_loss  Instances       Size\n"
     ]
    },
    {
     "name": "stderr",
     "output_type": "stream",
     "text": [
      "     20/100      9.43G      1.728       2.25      1.472         53        704: 100%|██████████| 1086/1086 [02:13<00:00,  8.14it/s]\n",
      "                 Class     Images  Instances      Box(P          R      mAP50  mAP50-95): 100%|██████████| 21/21 [00:03<00:00,  6.47it/s]\n"
     ]
    },
    {
     "name": "stdout",
     "output_type": "stream",
     "text": [
      "                   all        655      11450      0.499      0.096      0.106     0.0617\n",
      "\n",
      "      Epoch    GPU_mem   box_loss   cls_loss   dfl_loss  Instances       Size\n"
     ]
    },
    {
     "name": "stderr",
     "output_type": "stream",
     "text": [
      "     21/100      9.43G      1.732      2.244       1.47         22        576: 100%|██████████| 1086/1086 [02:11<00:00,  8.25it/s]\n",
      "                 Class     Images  Instances      Box(P          R      mAP50  mAP50-95): 100%|██████████| 21/21 [00:03<00:00,  5.86it/s]\n"
     ]
    },
    {
     "name": "stdout",
     "output_type": "stream",
     "text": [
      "                   all        655      11450      0.467      0.106      0.107     0.0619\n",
      "\n",
      "      Epoch    GPU_mem   box_loss   cls_loss   dfl_loss  Instances       Size\n"
     ]
    },
    {
     "name": "stderr",
     "output_type": "stream",
     "text": [
      "     22/100      9.43G      1.727      2.248       1.47         28        544: 100%|██████████| 1086/1086 [02:11<00:00,  8.23it/s]\n",
      "                 Class     Images  Instances      Box(P          R      mAP50  mAP50-95): 100%|██████████| 21/21 [00:03<00:00,  6.24it/s]\n"
     ]
    },
    {
     "name": "stdout",
     "output_type": "stream",
     "text": [
      "                   all        655      11450      0.479     0.0946      0.105     0.0624\n",
      "\n",
      "      Epoch    GPU_mem   box_loss   cls_loss   dfl_loss  Instances       Size\n"
     ]
    },
    {
     "name": "stderr",
     "output_type": "stream",
     "text": [
      "     23/100      9.43G       1.72      2.239      1.469         34        576: 100%|██████████| 1086/1086 [02:14<00:00,  8.07it/s]\n",
      "                 Class     Images  Instances      Box(P          R      mAP50  mAP50-95): 100%|██████████| 21/21 [00:03<00:00,  6.21it/s]\n"
     ]
    },
    {
     "name": "stdout",
     "output_type": "stream",
     "text": [
      "                   all        655      11450      0.448      0.105      0.105     0.0626\n",
      "\n",
      "      Epoch    GPU_mem   box_loss   cls_loss   dfl_loss  Instances       Size\n"
     ]
    },
    {
     "name": "stderr",
     "output_type": "stream",
     "text": [
      "     24/100      9.43G      1.732      2.237      1.463          6        544: 100%|██████████| 1086/1086 [02:13<00:00,  8.16it/s]\n",
      "                 Class     Images  Instances      Box(P          R      mAP50  mAP50-95): 100%|██████████| 21/21 [00:03<00:00,  6.10it/s]\n"
     ]
    },
    {
     "name": "stdout",
     "output_type": "stream",
     "text": [
      "                   all        655      11450      0.468     0.0957      0.104      0.062\n",
      "\n",
      "      Epoch    GPU_mem   box_loss   cls_loss   dfl_loss  Instances       Size\n"
     ]
    },
    {
     "name": "stderr",
     "output_type": "stream",
     "text": [
      "     25/100      9.43G      1.727      2.243      1.468         16        864: 100%|██████████| 1086/1086 [02:12<00:00,  8.17it/s]\n",
      "                 Class     Images  Instances      Box(P          R      mAP50  mAP50-95): 100%|██████████| 21/21 [00:03<00:00,  6.01it/s]\n"
     ]
    },
    {
     "name": "stdout",
     "output_type": "stream",
     "text": [
      "                   all        655      11450      0.478      0.103      0.106     0.0618\n",
      "\n",
      "      Epoch    GPU_mem   box_loss   cls_loss   dfl_loss  Instances       Size\n"
     ]
    },
    {
     "name": "stderr",
     "output_type": "stream",
     "text": [
      "     26/100      9.43G      1.723      2.237      1.467         14        928: 100%|██████████| 1086/1086 [02:13<00:00,  8.16it/s]\n",
      "                 Class     Images  Instances      Box(P          R      mAP50  mAP50-95): 100%|██████████| 21/21 [00:03<00:00,  6.06it/s]\n"
     ]
    },
    {
     "name": "stdout",
     "output_type": "stream",
     "text": [
      "                   all        655      11450      0.466      0.106      0.107      0.063\n",
      "\n",
      "      Epoch    GPU_mem   box_loss   cls_loss   dfl_loss  Instances       Size\n"
     ]
    },
    {
     "name": "stderr",
     "output_type": "stream",
     "text": [
      "     27/100      9.43G      1.715       2.23      1.467         29        640: 100%|██████████| 1086/1086 [02:14<00:00,  8.09it/s]\n",
      "                 Class     Images  Instances      Box(P          R      mAP50  mAP50-95): 100%|██████████| 21/21 [00:03<00:00,  5.97it/s]\n"
     ]
    },
    {
     "name": "stdout",
     "output_type": "stream",
     "text": [
      "                   all        655      11450      0.506      0.102       0.11     0.0653\n",
      "\n",
      "      Epoch    GPU_mem   box_loss   cls_loss   dfl_loss  Instances       Size\n"
     ]
    },
    {
     "name": "stderr",
     "output_type": "stream",
     "text": [
      "     28/100      9.43G      1.725      2.231      1.466         33        832: 100%|██████████| 1086/1086 [02:13<00:00,  8.16it/s]\n",
      "                 Class     Images  Instances      Box(P          R      mAP50  mAP50-95): 100%|██████████| 21/21 [00:03<00:00,  6.04it/s]\n"
     ]
    },
    {
     "name": "stdout",
     "output_type": "stream",
     "text": [
      "                   all        655      11450      0.466      0.109      0.107     0.0651\n",
      "\n",
      "      Epoch    GPU_mem   box_loss   cls_loss   dfl_loss  Instances       Size\n"
     ]
    },
    {
     "name": "stderr",
     "output_type": "stream",
     "text": [
      "     29/100      9.43G      1.713      2.221      1.462         27        352: 100%|██████████| 1086/1086 [02:13<00:00,  8.14it/s]\n",
      "                 Class     Images  Instances      Box(P          R      mAP50  mAP50-95): 100%|██████████| 21/21 [00:03<00:00,  6.52it/s]\n"
     ]
    },
    {
     "name": "stdout",
     "output_type": "stream",
     "text": [
      "                   all        655      11450      0.466      0.109      0.112     0.0667\n",
      "\n",
      "      Epoch    GPU_mem   box_loss   cls_loss   dfl_loss  Instances       Size\n"
     ]
    },
    {
     "name": "stderr",
     "output_type": "stream",
     "text": [
      "     30/100      9.43G      1.711      2.218      1.463         44        576: 100%|██████████| 1086/1086 [02:13<00:00,  8.16it/s]\n",
      "                 Class     Images  Instances      Box(P          R      mAP50  mAP50-95): 100%|██████████| 21/21 [00:03<00:00,  6.44it/s]\n"
     ]
    },
    {
     "name": "stdout",
     "output_type": "stream",
     "text": [
      "                   all        655      11450      0.475      0.107      0.106     0.0631\n",
      "\n",
      "      Epoch    GPU_mem   box_loss   cls_loss   dfl_loss  Instances       Size\n"
     ]
    },
    {
     "name": "stderr",
     "output_type": "stream",
     "text": [
      "     31/100      9.43G      1.706      2.217       1.46         32        896: 100%|██████████| 1086/1086 [02:13<00:00,  8.13it/s]\n",
      "                 Class     Images  Instances      Box(P          R      mAP50  mAP50-95): 100%|██████████| 21/21 [00:03<00:00,  6.50it/s]\n"
     ]
    },
    {
     "name": "stdout",
     "output_type": "stream",
     "text": [
      "                   all        655      11450      0.472      0.105       0.11      0.066\n",
      "\n",
      "      Epoch    GPU_mem   box_loss   cls_loss   dfl_loss  Instances       Size\n"
     ]
    },
    {
     "name": "stderr",
     "output_type": "stream",
     "text": [
      "     32/100      9.43G      1.713      2.219      1.464         11        384: 100%|██████████| 1086/1086 [02:13<00:00,  8.13it/s]\n",
      "                 Class     Images  Instances      Box(P          R      mAP50  mAP50-95): 100%|██████████| 21/21 [00:03<00:00,  6.17it/s]\n"
     ]
    },
    {
     "name": "stdout",
     "output_type": "stream",
     "text": [
      "                   all        655      11450      0.511     0.0994      0.111     0.0662\n",
      "\n",
      "      Epoch    GPU_mem   box_loss   cls_loss   dfl_loss  Instances       Size\n"
     ]
    },
    {
     "name": "stderr",
     "output_type": "stream",
     "text": [
      "     33/100      9.43G      1.716      2.214      1.461         22        928: 100%|██████████| 1086/1086 [02:12<00:00,  8.18it/s]\n",
      "                 Class     Images  Instances      Box(P          R      mAP50  mAP50-95): 100%|██████████| 21/21 [00:03<00:00,  5.96it/s]\n"
     ]
    },
    {
     "name": "stdout",
     "output_type": "stream",
     "text": [
      "                   all        655      11450      0.489      0.104      0.112     0.0673\n",
      "\n",
      "      Epoch    GPU_mem   box_loss   cls_loss   dfl_loss  Instances       Size\n"
     ]
    },
    {
     "name": "stderr",
     "output_type": "stream",
     "text": [
      "     34/100      9.43G      1.712      2.214      1.458         41        576: 100%|██████████| 1086/1086 [02:13<00:00,  8.14it/s]\n",
      "                 Class     Images  Instances      Box(P          R      mAP50  mAP50-95): 100%|██████████| 21/21 [00:03<00:00,  5.86it/s]\n"
     ]
    },
    {
     "name": "stdout",
     "output_type": "stream",
     "text": [
      "                   all        655      11450      0.504      0.108      0.109      0.065\n",
      "\n",
      "      Epoch    GPU_mem   box_loss   cls_loss   dfl_loss  Instances       Size\n"
     ]
    },
    {
     "name": "stderr",
     "output_type": "stream",
     "text": [
      "     35/100      9.43G       1.71      2.209       1.46         60        832: 100%|██████████| 1086/1086 [02:13<00:00,  8.12it/s]\n",
      "                 Class     Images  Instances      Box(P          R      mAP50  mAP50-95): 100%|██████████| 21/21 [00:03<00:00,  6.20it/s]\n"
     ]
    },
    {
     "name": "stdout",
     "output_type": "stream",
     "text": [
      "                   all        655      11450       0.48      0.109      0.111     0.0667\n",
      "\n",
      "      Epoch    GPU_mem   box_loss   cls_loss   dfl_loss  Instances       Size\n"
     ]
    },
    {
     "name": "stderr",
     "output_type": "stream",
     "text": [
      "     36/100      9.43G      1.705      2.199      1.457         50        864: 100%|██████████| 1086/1086 [02:13<00:00,  8.13it/s]\n",
      "                 Class     Images  Instances      Box(P          R      mAP50  mAP50-95): 100%|██████████| 21/21 [00:03<00:00,  6.29it/s]\n"
     ]
    },
    {
     "name": "stdout",
     "output_type": "stream",
     "text": [
      "                   all        655      11450      0.485       0.11      0.113     0.0679\n",
      "\n",
      "      Epoch    GPU_mem   box_loss   cls_loss   dfl_loss  Instances       Size\n"
     ]
    },
    {
     "name": "stderr",
     "output_type": "stream",
     "text": [
      "     37/100      9.43G      1.702      2.193      1.452         49        416: 100%|██████████| 1086/1086 [02:14<00:00,  8.09it/s]\n",
      "                 Class     Images  Instances      Box(P          R      mAP50  mAP50-95): 100%|██████████| 21/21 [00:03<00:00,  5.98it/s]\n"
     ]
    },
    {
     "name": "stdout",
     "output_type": "stream",
     "text": [
      "                   all        655      11450      0.462      0.111      0.113     0.0685\n",
      "\n",
      "      Epoch    GPU_mem   box_loss   cls_loss   dfl_loss  Instances       Size\n"
     ]
    },
    {
     "name": "stderr",
     "output_type": "stream",
     "text": [
      "     38/100      9.43G      1.708      2.202      1.458         28        928: 100%|██████████| 1086/1086 [02:13<00:00,  8.15it/s]\n",
      "                 Class     Images  Instances      Box(P          R      mAP50  mAP50-95): 100%|██████████| 21/21 [00:03<00:00,  6.32it/s]\n"
     ]
    },
    {
     "name": "stdout",
     "output_type": "stream",
     "text": [
      "                   all        655      11450      0.471      0.111      0.114     0.0686\n",
      "\n",
      "      Epoch    GPU_mem   box_loss   cls_loss   dfl_loss  Instances       Size\n"
     ]
    },
    {
     "name": "stderr",
     "output_type": "stream",
     "text": [
      "     39/100      9.43G      1.705      2.193      1.453         14        544: 100%|██████████| 1086/1086 [02:12<00:00,  8.21it/s]\n",
      "                 Class     Images  Instances      Box(P          R      mAP50  mAP50-95): 100%|██████████| 21/21 [00:03<00:00,  5.92it/s]\n"
     ]
    },
    {
     "name": "stdout",
     "output_type": "stream",
     "text": [
      "                   all        655      11450      0.488      0.112      0.114     0.0692\n",
      "\n",
      "      Epoch    GPU_mem   box_loss   cls_loss   dfl_loss  Instances       Size\n"
     ]
    },
    {
     "name": "stderr",
     "output_type": "stream",
     "text": [
      "     40/100      9.43G      1.702      2.185      1.454         46        544: 100%|██████████| 1086/1086 [02:13<00:00,  8.13it/s]\n",
      "                 Class     Images  Instances      Box(P          R      mAP50  mAP50-95): 100%|██████████| 21/21 [00:03<00:00,  5.84it/s]\n"
     ]
    },
    {
     "name": "stdout",
     "output_type": "stream",
     "text": [
      "                   all        655      11450      0.461      0.114      0.111     0.0668\n",
      "\n",
      "      Epoch    GPU_mem   box_loss   cls_loss   dfl_loss  Instances       Size\n"
     ]
    },
    {
     "name": "stderr",
     "output_type": "stream",
     "text": [
      "     41/100      10.3G      1.701      2.179      1.448         28        640: 100%|██████████| 1086/1086 [02:12<00:00,  8.18it/s]\n",
      "                 Class     Images  Instances      Box(P          R      mAP50  mAP50-95): 100%|██████████| 21/21 [00:03<00:00,  6.13it/s]\n"
     ]
    },
    {
     "name": "stdout",
     "output_type": "stream",
     "text": [
      "                   all        655      11450      0.487      0.107      0.113     0.0678\n",
      "\n",
      "      Epoch    GPU_mem   box_loss   cls_loss   dfl_loss  Instances       Size\n"
     ]
    },
    {
     "name": "stderr",
     "output_type": "stream",
     "text": [
      "     42/100      10.3G      1.697      2.182      1.451         44        512: 100%|██████████| 1086/1086 [02:12<00:00,  8.20it/s]\n",
      "                 Class     Images  Instances      Box(P          R      mAP50  mAP50-95): 100%|██████████| 21/21 [00:03<00:00,  6.26it/s]\n"
     ]
    },
    {
     "name": "stdout",
     "output_type": "stream",
     "text": [
      "                   all        655      11450      0.451      0.115      0.116     0.0702\n",
      "\n",
      "      Epoch    GPU_mem   box_loss   cls_loss   dfl_loss  Instances       Size\n"
     ]
    },
    {
     "name": "stderr",
     "output_type": "stream",
     "text": [
      "     43/100      10.3G      1.692      2.174      1.446         50        448: 100%|██████████| 1086/1086 [02:12<00:00,  8.17it/s]\n",
      "                 Class     Images  Instances      Box(P          R      mAP50  mAP50-95): 100%|██████████| 21/21 [00:03<00:00,  6.22it/s]\n"
     ]
    },
    {
     "name": "stdout",
     "output_type": "stream",
     "text": [
      "                   all        655      11450      0.446      0.117      0.117     0.0702\n",
      "\n",
      "      Epoch    GPU_mem   box_loss   cls_loss   dfl_loss  Instances       Size\n"
     ]
    },
    {
     "name": "stderr",
     "output_type": "stream",
     "text": [
      "     44/100      10.3G      1.695      2.184      1.451         77        736: 100%|██████████| 1086/1086 [02:13<00:00,  8.11it/s]\n",
      "                 Class     Images  Instances      Box(P          R      mAP50  mAP50-95): 100%|██████████| 21/21 [00:03<00:00,  6.32it/s]\n"
     ]
    },
    {
     "name": "stdout",
     "output_type": "stream",
     "text": [
      "                   all        655      11450      0.439       0.12      0.115     0.0692\n",
      "\n",
      "      Epoch    GPU_mem   box_loss   cls_loss   dfl_loss  Instances       Size\n"
     ]
    },
    {
     "name": "stderr",
     "output_type": "stream",
     "text": [
      "     45/100      10.3G      1.685      2.166       1.45         20        928: 100%|██████████| 1086/1086 [02:13<00:00,  8.11it/s]\n",
      "                 Class     Images  Instances      Box(P          R      mAP50  mAP50-95): 100%|██████████| 21/21 [00:03<00:00,  6.37it/s]\n"
     ]
    },
    {
     "name": "stdout",
     "output_type": "stream",
     "text": [
      "                   all        655      11450      0.445      0.119      0.116     0.0695\n",
      "\n",
      "      Epoch    GPU_mem   box_loss   cls_loss   dfl_loss  Instances       Size\n"
     ]
    },
    {
     "name": "stderr",
     "output_type": "stream",
     "text": [
      "     46/100      10.3G      1.692      2.168      1.445         28        512: 100%|██████████| 1086/1086 [02:11<00:00,  8.23it/s]\n",
      "                 Class     Images  Instances      Box(P          R      mAP50  mAP50-95): 100%|██████████| 21/21 [00:03<00:00,  6.10it/s]\n"
     ]
    },
    {
     "name": "stdout",
     "output_type": "stream",
     "text": [
      "                   all        655      11450      0.448       0.12      0.116     0.0688\n",
      "\n",
      "      Epoch    GPU_mem   box_loss   cls_loss   dfl_loss  Instances       Size\n"
     ]
    },
    {
     "name": "stderr",
     "output_type": "stream",
     "text": [
      "     47/100      10.3G      1.692      2.166      1.442         38        768: 100%|██████████| 1086/1086 [02:12<00:00,  8.17it/s]\n",
      "                 Class     Images  Instances      Box(P          R      mAP50  mAP50-95): 100%|██████████| 21/21 [00:03<00:00,  6.31it/s]\n"
     ]
    },
    {
     "name": "stdout",
     "output_type": "stream",
     "text": [
      "                   all        655      11450      0.445       0.12      0.116     0.0692\n",
      "\n",
      "      Epoch    GPU_mem   box_loss   cls_loss   dfl_loss  Instances       Size\n"
     ]
    },
    {
     "name": "stderr",
     "output_type": "stream",
     "text": [
      "     48/100      10.3G      1.693      2.173      1.446         12        768: 100%|██████████| 1086/1086 [02:14<00:00,  8.10it/s]\n",
      "                 Class     Images  Instances      Box(P          R      mAP50  mAP50-95): 100%|██████████| 21/21 [00:03<00:00,  6.36it/s]\n"
     ]
    },
    {
     "name": "stdout",
     "output_type": "stream",
     "text": [
      "                   all        655      11450      0.457      0.119      0.116     0.0698\n",
      "\n",
      "      Epoch    GPU_mem   box_loss   cls_loss   dfl_loss  Instances       Size\n"
     ]
    },
    {
     "name": "stderr",
     "output_type": "stream",
     "text": [
      "     49/100      10.3G       1.69      2.161      1.443         23        448: 100%|██████████| 1086/1086 [02:13<00:00,  8.12it/s]\n",
      "                 Class     Images  Instances      Box(P          R      mAP50  mAP50-95): 100%|██████████| 21/21 [00:03<00:00,  6.16it/s]\n"
     ]
    },
    {
     "name": "stdout",
     "output_type": "stream",
     "text": [
      "                   all        655      11450      0.457      0.121      0.118     0.0705\n",
      "\n",
      "      Epoch    GPU_mem   box_loss   cls_loss   dfl_loss  Instances       Size\n"
     ]
    },
    {
     "name": "stderr",
     "output_type": "stream",
     "text": [
      "     50/100      10.3G      1.692      2.162      1.442         53        608: 100%|██████████| 1086/1086 [02:12<00:00,  8.20it/s]\n",
      "                 Class     Images  Instances      Box(P          R      mAP50  mAP50-95): 100%|██████████| 21/21 [00:03<00:00,  5.97it/s]\n"
     ]
    },
    {
     "name": "stdout",
     "output_type": "stream",
     "text": [
      "                   all        655      11450      0.441       0.12      0.117     0.0707\n",
      "\n",
      "      Epoch    GPU_mem   box_loss   cls_loss   dfl_loss  Instances       Size\n"
     ]
    },
    {
     "name": "stderr",
     "output_type": "stream",
     "text": [
      "     51/100      10.3G      1.681      2.151       1.44         28        800: 100%|██████████| 1086/1086 [02:14<00:00,  8.08it/s]\n",
      "                 Class     Images  Instances      Box(P          R      mAP50  mAP50-95): 100%|██████████| 21/21 [00:03<00:00,  6.37it/s]\n"
     ]
    },
    {
     "name": "stdout",
     "output_type": "stream",
     "text": [
      "                   all        655      11450      0.456       0.12      0.118     0.0708\n",
      "\n",
      "      Epoch    GPU_mem   box_loss   cls_loss   dfl_loss  Instances       Size\n"
     ]
    },
    {
     "name": "stderr",
     "output_type": "stream",
     "text": [
      "     52/100      10.3G      1.684      2.152      1.441         18        640: 100%|██████████| 1086/1086 [02:15<00:00,  7.99it/s]\n",
      "                 Class     Images  Instances      Box(P          R      mAP50  mAP50-95): 100%|██████████| 21/21 [00:03<00:00,  5.90it/s]\n"
     ]
    },
    {
     "name": "stdout",
     "output_type": "stream",
     "text": [
      "                   all        655      11450      0.466       0.12      0.117     0.0705\n",
      "\n",
      "      Epoch    GPU_mem   box_loss   cls_loss   dfl_loss  Instances       Size\n"
     ]
    },
    {
     "name": "stderr",
     "output_type": "stream",
     "text": [
      "     53/100      10.3G       1.69      2.153      1.439         82        640: 100%|██████████| 1086/1086 [02:10<00:00,  8.31it/s]\n",
      "                 Class     Images  Instances      Box(P          R      mAP50  mAP50-95): 100%|██████████| 21/21 [00:03<00:00,  6.12it/s]\n"
     ]
    },
    {
     "name": "stdout",
     "output_type": "stream",
     "text": [
      "                   all        655      11450      0.459      0.118      0.117     0.0701\n",
      "\n",
      "      Epoch    GPU_mem   box_loss   cls_loss   dfl_loss  Instances       Size\n"
     ]
    },
    {
     "name": "stderr",
     "output_type": "stream",
     "text": [
      "     54/100      10.3G      1.686      2.151      1.443         11        736: 100%|██████████| 1086/1086 [02:14<00:00,  8.10it/s]\n",
      "                 Class     Images  Instances      Box(P          R      mAP50  mAP50-95): 100%|██████████| 21/21 [00:03<00:00,  6.17it/s]\n"
     ]
    },
    {
     "name": "stdout",
     "output_type": "stream",
     "text": [
      "                   all        655      11450      0.457      0.118      0.118     0.0705\n",
      "\n",
      "      Epoch    GPU_mem   box_loss   cls_loss   dfl_loss  Instances       Size\n"
     ]
    },
    {
     "name": "stderr",
     "output_type": "stream",
     "text": [
      "     55/100      10.3G      1.681      2.136      1.436         17        672: 100%|██████████| 1086/1086 [02:12<00:00,  8.18it/s]\n",
      "                 Class     Images  Instances      Box(P          R      mAP50  mAP50-95): 100%|██████████| 21/21 [00:03<00:00,  6.09it/s]\n"
     ]
    },
    {
     "name": "stdout",
     "output_type": "stream",
     "text": [
      "                   all        655      11450      0.454      0.119      0.117     0.0707\n",
      "\n",
      "      Epoch    GPU_mem   box_loss   cls_loss   dfl_loss  Instances       Size\n"
     ]
    },
    {
     "name": "stderr",
     "output_type": "stream",
     "text": [
      "     56/100      10.3G      1.683      2.154      1.443         20        608: 100%|██████████| 1086/1086 [02:12<00:00,  8.20it/s]\n",
      "                 Class     Images  Instances      Box(P          R      mAP50  mAP50-95): 100%|██████████| 21/21 [00:05<00:00,  4.17it/s]\n"
     ]
    },
    {
     "name": "stdout",
     "output_type": "stream",
     "text": [
      "                   all        655      11450      0.458       0.12      0.116     0.0707\n",
      "\n",
      "      Epoch    GPU_mem   box_loss   cls_loss   dfl_loss  Instances       Size\n"
     ]
    },
    {
     "name": "stderr",
     "output_type": "stream",
     "text": [
      "     57/100      10.3G      1.679      2.138      1.436          9        768: 100%|██████████| 1086/1086 [02:10<00:00,  8.30it/s]\n",
      "                 Class     Images  Instances      Box(P          R      mAP50  mAP50-95): 100%|██████████| 21/21 [00:04<00:00,  4.24it/s]\n"
     ]
    },
    {
     "name": "stdout",
     "output_type": "stream",
     "text": [
      "                   all        655      11450      0.461      0.117      0.117     0.0708\n",
      "\n",
      "      Epoch    GPU_mem   box_loss   cls_loss   dfl_loss  Instances       Size\n"
     ]
    },
    {
     "name": "stderr",
     "output_type": "stream",
     "text": [
      "     58/100      10.3G      1.673      2.127      1.435          8        480: 100%|██████████| 1086/1086 [02:14<00:00,  8.06it/s]\n",
      "                 Class     Images  Instances      Box(P          R      mAP50  mAP50-95): 100%|██████████| 21/21 [00:03<00:00,  5.93it/s]\n"
     ]
    },
    {
     "name": "stdout",
     "output_type": "stream",
     "text": [
      "                   all        655      11450      0.459      0.122      0.117     0.0712\n",
      "\n",
      "      Epoch    GPU_mem   box_loss   cls_loss   dfl_loss  Instances       Size\n"
     ]
    },
    {
     "name": "stderr",
     "output_type": "stream",
     "text": [
      "     59/100      10.3G      1.674      2.131      1.436         22        800: 100%|██████████| 1086/1086 [02:13<00:00,  8.13it/s]\n",
      "                 Class     Images  Instances      Box(P          R      mAP50  mAP50-95): 100%|██████████| 21/21 [00:03<00:00,  6.02it/s]\n"
     ]
    },
    {
     "name": "stdout",
     "output_type": "stream",
     "text": [
      "                   all        655      11450      0.462      0.123      0.119     0.0721\n",
      "\n",
      "      Epoch    GPU_mem   box_loss   cls_loss   dfl_loss  Instances       Size\n"
     ]
    },
    {
     "name": "stderr",
     "output_type": "stream",
     "text": [
      "     60/100      10.3G      1.678       2.13      1.435         40        896: 100%|██████████| 1086/1086 [02:12<00:00,  8.22it/s]\n",
      "                 Class     Images  Instances      Box(P          R      mAP50  mAP50-95): 100%|██████████| 21/21 [00:03<00:00,  6.34it/s]\n"
     ]
    },
    {
     "name": "stdout",
     "output_type": "stream",
     "text": [
      "                   all        655      11450      0.468       0.12      0.118     0.0721\n",
      "\n",
      "      Epoch    GPU_mem   box_loss   cls_loss   dfl_loss  Instances       Size\n"
     ]
    },
    {
     "name": "stderr",
     "output_type": "stream",
     "text": [
      "     61/100      10.3G      1.674      2.127      1.433         20        736: 100%|██████████| 1086/1086 [02:13<00:00,  8.15it/s]\n",
      "                 Class     Images  Instances      Box(P          R      mAP50  mAP50-95): 100%|██████████| 21/21 [00:03<00:00,  6.10it/s]\n"
     ]
    },
    {
     "name": "stdout",
     "output_type": "stream",
     "text": [
      "                   all        655      11450      0.468      0.121      0.119     0.0723\n",
      "\n",
      "      Epoch    GPU_mem   box_loss   cls_loss   dfl_loss  Instances       Size\n"
     ]
    },
    {
     "name": "stderr",
     "output_type": "stream",
     "text": [
      "     62/100      10.3G      1.671      2.112       1.43         32        448: 100%|██████████| 1086/1086 [02:12<00:00,  8.22it/s]\n",
      "                 Class     Images  Instances      Box(P          R      mAP50  mAP50-95): 100%|██████████| 21/21 [00:03<00:00,  6.00it/s]\n"
     ]
    },
    {
     "name": "stdout",
     "output_type": "stream",
     "text": [
      "                   all        655      11450      0.461      0.121      0.118     0.0721\n",
      "\n",
      "      Epoch    GPU_mem   box_loss   cls_loss   dfl_loss  Instances       Size\n"
     ]
    },
    {
     "name": "stderr",
     "output_type": "stream",
     "text": [
      "     63/100      10.3G      1.671      2.113      1.431         36        608: 100%|██████████| 1086/1086 [02:13<00:00,  8.16it/s]\n",
      "                 Class     Images  Instances      Box(P          R      mAP50  mAP50-95): 100%|██████████| 21/21 [00:03<00:00,  5.95it/s]\n"
     ]
    },
    {
     "name": "stdout",
     "output_type": "stream",
     "text": [
      "                   all        655      11450      0.461       0.12      0.118     0.0719\n",
      "\n",
      "      Epoch    GPU_mem   box_loss   cls_loss   dfl_loss  Instances       Size\n"
     ]
    },
    {
     "name": "stderr",
     "output_type": "stream",
     "text": [
      "     64/100      10.3G      1.673       2.12      1.431         79        480: 100%|██████████| 1086/1086 [02:13<00:00,  8.15it/s]\n",
      "                 Class     Images  Instances      Box(P          R      mAP50  mAP50-95): 100%|██████████| 21/21 [00:03<00:00,  6.25it/s]\n"
     ]
    },
    {
     "name": "stdout",
     "output_type": "stream",
     "text": [
      "                   all        655      11450      0.454      0.121      0.118     0.0716\n",
      "\n",
      "      Epoch    GPU_mem   box_loss   cls_loss   dfl_loss  Instances       Size\n"
     ]
    },
    {
     "name": "stderr",
     "output_type": "stream",
     "text": [
      "     65/100      10.3G      1.673      2.115      1.434         46        448: 100%|██████████| 1086/1086 [02:13<00:00,  8.12it/s]\n",
      "                 Class     Images  Instances      Box(P          R      mAP50  mAP50-95): 100%|██████████| 21/21 [00:03<00:00,  5.88it/s]\n"
     ]
    },
    {
     "name": "stdout",
     "output_type": "stream",
     "text": [
      "                   all        655      11450      0.457      0.121      0.117     0.0712\n",
      "\n",
      "      Epoch    GPU_mem   box_loss   cls_loss   dfl_loss  Instances       Size\n"
     ]
    },
    {
     "name": "stderr",
     "output_type": "stream",
     "text": [
      "     66/100      10.3G      1.673      2.117      1.431         16        864: 100%|██████████| 1086/1086 [02:12<00:00,  8.18it/s]\n",
      "                 Class     Images  Instances      Box(P          R      mAP50  mAP50-95): 100%|██████████| 21/21 [00:03<00:00,  5.91it/s]\n"
     ]
    },
    {
     "name": "stdout",
     "output_type": "stream",
     "text": [
      "                   all        655      11450      0.458      0.121      0.118     0.0715\n",
      "\n",
      "      Epoch    GPU_mem   box_loss   cls_loss   dfl_loss  Instances       Size\n"
     ]
    },
    {
     "name": "stderr",
     "output_type": "stream",
     "text": [
      "     67/100      10.3G      1.663      2.104      1.425         29        352: 100%|██████████| 1086/1086 [02:13<00:00,  8.15it/s]\n",
      "                 Class     Images  Instances      Box(P          R      mAP50  mAP50-95): 100%|██████████| 21/21 [00:03<00:00,  6.13it/s]\n"
     ]
    },
    {
     "name": "stdout",
     "output_type": "stream",
     "text": [
      "                   all        655      11450      0.454      0.122      0.118     0.0714\n",
      "\n",
      "      Epoch    GPU_mem   box_loss   cls_loss   dfl_loss  Instances       Size\n"
     ]
    },
    {
     "name": "stderr",
     "output_type": "stream",
     "text": [
      "     68/100      10.3G      1.666       2.11      1.429         20        704: 100%|██████████| 1086/1086 [02:13<00:00,  8.12it/s]\n",
      "                 Class     Images  Instances      Box(P          R      mAP50  mAP50-95): 100%|██████████| 21/21 [00:03<00:00,  6.31it/s]\n"
     ]
    },
    {
     "name": "stdout",
     "output_type": "stream",
     "text": [
      "                   all        655      11450      0.457      0.121      0.118     0.0714\n",
      "\n",
      "      Epoch    GPU_mem   box_loss   cls_loss   dfl_loss  Instances       Size\n"
     ]
    },
    {
     "name": "stderr",
     "output_type": "stream",
     "text": [
      "     69/100      10.3G      1.668      2.108      1.423          6        896: 100%|██████████| 1086/1086 [02:11<00:00,  8.28it/s]\n",
      "                 Class     Images  Instances      Box(P          R      mAP50  mAP50-95): 100%|██████████| 21/21 [00:03<00:00,  6.13it/s]\n"
     ]
    },
    {
     "name": "stdout",
     "output_type": "stream",
     "text": [
      "                   all        655      11450      0.473      0.116      0.118     0.0714\n",
      "\n",
      "      Epoch    GPU_mem   box_loss   cls_loss   dfl_loss  Instances       Size\n"
     ]
    },
    {
     "name": "stderr",
     "output_type": "stream",
     "text": [
      "     70/100      10.3G      1.665      2.095      1.423         12        320: 100%|██████████| 1086/1086 [02:12<00:00,  8.17it/s]\n",
      "                 Class     Images  Instances      Box(P          R      mAP50  mAP50-95): 100%|██████████| 21/21 [00:03<00:00,  6.04it/s]\n"
     ]
    },
    {
     "name": "stdout",
     "output_type": "stream",
     "text": [
      "                   all        655      11450      0.473      0.116      0.118     0.0716\n",
      "\n",
      "      Epoch    GPU_mem   box_loss   cls_loss   dfl_loss  Instances       Size\n"
     ]
    },
    {
     "name": "stderr",
     "output_type": "stream",
     "text": [
      "     71/100      10.3G      1.666      2.102      1.428         12        896: 100%|██████████| 1086/1086 [02:12<00:00,  8.19it/s]\n",
      "                 Class     Images  Instances      Box(P          R      mAP50  mAP50-95): 100%|██████████| 21/21 [00:03<00:00,  6.03it/s]\n"
     ]
    },
    {
     "name": "stdout",
     "output_type": "stream",
     "text": [
      "                   all        655      11450      0.473      0.116      0.119     0.0717\n",
      "\n",
      "      Epoch    GPU_mem   box_loss   cls_loss   dfl_loss  Instances       Size\n"
     ]
    },
    {
     "name": "stderr",
     "output_type": "stream",
     "text": [
      "     72/100      10.3G      1.664        2.1      1.425         31        320: 100%|██████████| 1086/1086 [02:14<00:00,  8.09it/s]\n",
      "                 Class     Images  Instances      Box(P          R      mAP50  mAP50-95): 100%|██████████| 21/21 [00:03<00:00,  6.22it/s]\n"
     ]
    },
    {
     "name": "stdout",
     "output_type": "stream",
     "text": [
      "                   all        655      11450      0.472      0.117      0.119     0.0718\n",
      "\n",
      "      Epoch    GPU_mem   box_loss   cls_loss   dfl_loss  Instances       Size\n"
     ]
    },
    {
     "name": "stderr",
     "output_type": "stream",
     "text": [
      "     73/100      10.3G      1.662      2.098      1.426         74        352: 100%|██████████| 1086/1086 [02:11<00:00,  8.25it/s]\n",
      "                 Class     Images  Instances      Box(P          R      mAP50  mAP50-95): 100%|██████████| 21/21 [00:03<00:00,  6.08it/s]\n"
     ]
    },
    {
     "name": "stdout",
     "output_type": "stream",
     "text": [
      "                   all        655      11450      0.476      0.116      0.118     0.0716\n",
      "\n",
      "      Epoch    GPU_mem   box_loss   cls_loss   dfl_loss  Instances       Size\n"
     ]
    },
    {
     "name": "stderr",
     "output_type": "stream",
     "text": [
      "     74/100      10.3G      1.661       2.09      1.421         12        800: 100%|██████████| 1086/1086 [02:14<00:00,  8.09it/s]\n",
      "                 Class     Images  Instances      Box(P          R      mAP50  mAP50-95): 100%|██████████| 21/21 [00:03<00:00,  5.94it/s]\n"
     ]
    },
    {
     "name": "stdout",
     "output_type": "stream",
     "text": [
      "                   all        655      11450      0.474      0.115      0.118     0.0714\n",
      "\n",
      "      Epoch    GPU_mem   box_loss   cls_loss   dfl_loss  Instances       Size\n"
     ]
    },
    {
     "name": "stderr",
     "output_type": "stream",
     "text": [
      "     75/100      10.3G      1.658      2.088      1.418         14        480: 100%|██████████| 1086/1086 [02:13<00:00,  8.14it/s]\n",
      "                 Class     Images  Instances      Box(P          R      mAP50  mAP50-95): 100%|██████████| 21/21 [00:03<00:00,  6.14it/s]\n"
     ]
    },
    {
     "name": "stdout",
     "output_type": "stream",
     "text": [
      "                   all        655      11450      0.477      0.114      0.118     0.0715\n",
      "\n",
      "      Epoch    GPU_mem   box_loss   cls_loss   dfl_loss  Instances       Size\n"
     ]
    },
    {
     "name": "stderr",
     "output_type": "stream",
     "text": [
      "     76/100      10.3G      1.663      2.092      1.421         29        320: 100%|██████████| 1086/1086 [02:12<00:00,  8.17it/s]\n",
      "                 Class     Images  Instances      Box(P          R      mAP50  mAP50-95): 100%|██████████| 21/21 [00:03<00:00,  6.21it/s]\n"
     ]
    },
    {
     "name": "stdout",
     "output_type": "stream",
     "text": [
      "                   all        655      11450      0.475      0.115      0.118     0.0714\n",
      "\n",
      "      Epoch    GPU_mem   box_loss   cls_loss   dfl_loss  Instances       Size\n"
     ]
    },
    {
     "name": "stderr",
     "output_type": "stream",
     "text": [
      "     77/100      10.3G      1.652      2.072      1.416         29        448: 100%|██████████| 1086/1086 [02:13<00:00,  8.14it/s]\n",
      "                 Class     Images  Instances      Box(P          R      mAP50  mAP50-95): 100%|██████████| 21/21 [00:03<00:00,  6.19it/s]\n"
     ]
    },
    {
     "name": "stdout",
     "output_type": "stream",
     "text": [
      "                   all        655      11450      0.474      0.114      0.118     0.0716\n",
      "\n",
      "      Epoch    GPU_mem   box_loss   cls_loss   dfl_loss  Instances       Size\n"
     ]
    },
    {
     "name": "stderr",
     "output_type": "stream",
     "text": [
      "     78/100      10.3G      1.662      2.086       1.42         24        704: 100%|██████████| 1086/1086 [02:12<00:00,  8.18it/s]\n",
      "                 Class     Images  Instances      Box(P          R      mAP50  mAP50-95): 100%|██████████| 21/21 [00:03<00:00,  6.30it/s]\n"
     ]
    },
    {
     "name": "stdout",
     "output_type": "stream",
     "text": [
      "                   all        655      11450      0.475      0.114      0.117     0.0714\n",
      "\n",
      "      Epoch    GPU_mem   box_loss   cls_loss   dfl_loss  Instances       Size\n"
     ]
    },
    {
     "name": "stderr",
     "output_type": "stream",
     "text": [
      "     79/100      10.3G      1.659      2.084       1.42         19        704: 100%|██████████| 1086/1086 [02:12<00:00,  8.21it/s]\n",
      "                 Class     Images  Instances      Box(P          R      mAP50  mAP50-95): 100%|██████████| 21/21 [00:03<00:00,  6.02it/s]\n"
     ]
    },
    {
     "name": "stdout",
     "output_type": "stream",
     "text": [
      "                   all        655      11450       0.47      0.117      0.118     0.0715\n",
      "\n",
      "      Epoch    GPU_mem   box_loss   cls_loss   dfl_loss  Instances       Size\n"
     ]
    },
    {
     "name": "stderr",
     "output_type": "stream",
     "text": [
      "     80/100      10.3G      1.658      2.087      1.421         36        896: 100%|██████████| 1086/1086 [02:12<00:00,  8.19it/s]\n",
      "                 Class     Images  Instances      Box(P          R      mAP50  mAP50-95): 100%|██████████| 21/21 [00:03<00:00,  5.88it/s]\n"
     ]
    },
    {
     "name": "stdout",
     "output_type": "stream",
     "text": [
      "                   all        655      11450      0.468      0.117      0.118     0.0716\n",
      "\n",
      "      Epoch    GPU_mem   box_loss   cls_loss   dfl_loss  Instances       Size\n"
     ]
    },
    {
     "name": "stderr",
     "output_type": "stream",
     "text": [
      "     81/100      10.3G      1.649      2.071      1.418         10        576: 100%|██████████| 1086/1086 [02:13<00:00,  8.14it/s]\n",
      "                 Class     Images  Instances      Box(P          R      mAP50  mAP50-95): 100%|██████████| 21/21 [00:03<00:00,  6.42it/s]\n"
     ]
    },
    {
     "name": "stdout",
     "output_type": "stream",
     "text": [
      "                   all        655      11450      0.468      0.116      0.118     0.0714\n",
      "\n",
      "      Epoch    GPU_mem   box_loss   cls_loss   dfl_loss  Instances       Size\n"
     ]
    },
    {
     "name": "stderr",
     "output_type": "stream",
     "text": [
      "     82/100      10.3G      1.655      2.071      1.414         37        480: 100%|██████████| 1086/1086 [02:12<00:00,  8.22it/s]\n",
      "                 Class     Images  Instances      Box(P          R      mAP50  mAP50-95): 100%|██████████| 21/21 [00:03<00:00,  6.41it/s]\n"
     ]
    },
    {
     "name": "stdout",
     "output_type": "stream",
     "text": [
      "                   all        655      11450      0.467      0.116      0.118     0.0717\n",
      "\n",
      "      Epoch    GPU_mem   box_loss   cls_loss   dfl_loss  Instances       Size\n"
     ]
    },
    {
     "name": "stderr",
     "output_type": "stream",
     "text": [
      "     83/100      10.3G       1.65      2.071      1.413         91        512: 100%|██████████| 1086/1086 [02:12<00:00,  8.22it/s]\n",
      "                 Class     Images  Instances      Box(P          R      mAP50  mAP50-95): 100%|██████████| 21/21 [00:03<00:00,  6.21it/s]\n"
     ]
    },
    {
     "name": "stdout",
     "output_type": "stream",
     "text": [
      "                   all        655      11450      0.471      0.116      0.118     0.0717\n",
      "\n",
      "      Epoch    GPU_mem   box_loss   cls_loss   dfl_loss  Instances       Size\n"
     ]
    },
    {
     "name": "stderr",
     "output_type": "stream",
     "text": [
      "     84/100      10.3G      1.653       2.07      1.415         30        352: 100%|██████████| 1086/1086 [02:12<00:00,  8.19it/s]\n",
      "                 Class     Images  Instances      Box(P          R      mAP50  mAP50-95): 100%|██████████| 21/21 [00:03<00:00,  6.03it/s]\n"
     ]
    },
    {
     "name": "stdout",
     "output_type": "stream",
     "text": [
      "                   all        655      11450      0.467      0.116      0.118     0.0717\n",
      "\n",
      "      Epoch    GPU_mem   box_loss   cls_loss   dfl_loss  Instances       Size\n"
     ]
    },
    {
     "name": "stderr",
     "output_type": "stream",
     "text": [
      "     85/100      10.3G      1.652      2.073      1.418         14        704: 100%|██████████| 1086/1086 [02:13<00:00,  8.16it/s]\n",
      "                 Class     Images  Instances      Box(P          R      mAP50  mAP50-95): 100%|██████████| 21/21 [00:03<00:00,  6.18it/s]\n"
     ]
    },
    {
     "name": "stdout",
     "output_type": "stream",
     "text": [
      "                   all        655      11450      0.467      0.115      0.118     0.0717\n",
      "\n",
      "      Epoch    GPU_mem   box_loss   cls_loss   dfl_loss  Instances       Size\n"
     ]
    },
    {
     "name": "stderr",
     "output_type": "stream",
     "text": [
      "     86/100      10.3G      1.648      2.065      1.416         39        384: 100%|██████████| 1086/1086 [02:13<00:00,  8.12it/s]\n",
      "                 Class     Images  Instances      Box(P          R      mAP50  mAP50-95): 100%|██████████| 21/21 [00:03<00:00,  6.63it/s]\n"
     ]
    },
    {
     "name": "stdout",
     "output_type": "stream",
     "text": [
      "                   all        655      11450       0.47      0.116      0.118     0.0718\n",
      "\n",
      "      Epoch    GPU_mem   box_loss   cls_loss   dfl_loss  Instances       Size\n"
     ]
    },
    {
     "name": "stderr",
     "output_type": "stream",
     "text": [
      "     87/100      10.3G      1.651      2.069      1.419         22        736: 100%|██████████| 1086/1086 [02:14<00:00,  8.10it/s]\n",
      "                 Class     Images  Instances      Box(P          R      mAP50  mAP50-95): 100%|██████████| 21/21 [00:03<00:00,  6.61it/s]\n"
     ]
    },
    {
     "name": "stdout",
     "output_type": "stream",
     "text": [
      "                   all        655      11450      0.467      0.116      0.118     0.0717\n",
      "\n",
      "      Epoch    GPU_mem   box_loss   cls_loss   dfl_loss  Instances       Size\n"
     ]
    },
    {
     "name": "stderr",
     "output_type": "stream",
     "text": [
      "     88/100      10.3G      1.659      2.069      1.415         17        896: 100%|██████████| 1086/1086 [02:12<00:00,  8.20it/s]\n",
      "                 Class     Images  Instances      Box(P          R      mAP50  mAP50-95): 100%|██████████| 21/21 [00:03<00:00,  6.35it/s]\n"
     ]
    },
    {
     "name": "stdout",
     "output_type": "stream",
     "text": [
      "                   all        655      11450      0.471      0.115      0.118     0.0716\n",
      "\n",
      "      Epoch    GPU_mem   box_loss   cls_loss   dfl_loss  Instances       Size\n"
     ]
    },
    {
     "name": "stderr",
     "output_type": "stream",
     "text": [
      "     89/100      10.3G      1.652      2.068      1.417         16        960: 100%|██████████| 1086/1086 [02:13<00:00,  8.11it/s]\n",
      "                 Class     Images  Instances      Box(P          R      mAP50  mAP50-95): 100%|██████████| 21/21 [00:03<00:00,  6.09it/s]\n"
     ]
    },
    {
     "name": "stdout",
     "output_type": "stream",
     "text": [
      "                   all        655      11450       0.47      0.116      0.118     0.0715\n",
      "\n",
      "      Epoch    GPU_mem   box_loss   cls_loss   dfl_loss  Instances       Size\n"
     ]
    },
    {
     "name": "stderr",
     "output_type": "stream",
     "text": [
      "     90/100      10.3G      1.649       2.06      1.411         22        928: 100%|██████████| 1086/1086 [02:12<00:00,  8.22it/s]\n",
      "                 Class     Images  Instances      Box(P          R      mAP50  mAP50-95): 100%|██████████| 21/21 [00:03<00:00,  6.30it/s]\n"
     ]
    },
    {
     "name": "stdout",
     "output_type": "stream",
     "text": [
      "                   all        655      11450      0.471      0.115      0.118     0.0714\n",
      "Closing dataloader mosaic\n",
      "\n",
      "      Epoch    GPU_mem   box_loss   cls_loss   dfl_loss  Instances       Size\n"
     ]
    },
    {
     "name": "stderr",
     "output_type": "stream",
     "text": [
      "     91/100      10.3G       1.46      1.727      1.276         17        960: 100%|██████████| 1086/1086 [02:07<00:00,  8.50it/s]\n",
      "                 Class     Images  Instances      Box(P          R      mAP50  mAP50-95): 100%|██████████| 21/21 [00:03<00:00,  5.89it/s]\n"
     ]
    },
    {
     "name": "stdout",
     "output_type": "stream",
     "text": [
      "                   all        655      11450      0.472      0.115      0.118     0.0716\n",
      "\n",
      "      Epoch    GPU_mem   box_loss   cls_loss   dfl_loss  Instances       Size\n"
     ]
    },
    {
     "name": "stderr",
     "output_type": "stream",
     "text": [
      "     92/100      10.3G      1.455      1.722      1.275          2        512: 100%|██████████| 1086/1086 [02:09<00:00,  8.39it/s]\n",
      "                 Class     Images  Instances      Box(P          R      mAP50  mAP50-95): 100%|██████████| 21/21 [00:03<00:00,  6.14it/s]\n"
     ]
    },
    {
     "name": "stdout",
     "output_type": "stream",
     "text": [
      "                   all        655      11450      0.475      0.116      0.118     0.0715\n",
      "\n",
      "      Epoch    GPU_mem   box_loss   cls_loss   dfl_loss  Instances       Size\n"
     ]
    },
    {
     "name": "stderr",
     "output_type": "stream",
     "text": [
      "     93/100      10.3G      1.452      1.709      1.274         25        544: 100%|██████████| 1086/1086 [02:07<00:00,  8.51it/s]\n",
      "                 Class     Images  Instances      Box(P          R      mAP50  mAP50-95): 100%|██████████| 21/21 [00:03<00:00,  6.13it/s]\n"
     ]
    },
    {
     "name": "stdout",
     "output_type": "stream",
     "text": [
      "                   all        655      11450      0.479      0.116      0.118     0.0717\n",
      "\n",
      "      Epoch    GPU_mem   box_loss   cls_loss   dfl_loss  Instances       Size\n"
     ]
    },
    {
     "name": "stderr",
     "output_type": "stream",
     "text": [
      "     94/100      10.3G      1.454      1.708      1.275         20        480: 100%|██████████| 1086/1086 [02:05<00:00,  8.63it/s]\n",
      "                 Class     Images  Instances      Box(P          R      mAP50  mAP50-95): 100%|██████████| 21/21 [00:05<00:00,  3.59it/s]\n"
     ]
    },
    {
     "name": "stdout",
     "output_type": "stream",
     "text": [
      "                   all        655      11450      0.475      0.118      0.119     0.0718\n",
      "\n",
      "      Epoch    GPU_mem   box_loss   cls_loss   dfl_loss  Instances       Size\n"
     ]
    },
    {
     "name": "stderr",
     "output_type": "stream",
     "text": [
      "     95/100      10.3G       1.45      1.703      1.275         51        640: 100%|██████████| 1086/1086 [02:06<00:00,  8.57it/s]\n",
      "                 Class     Images  Instances      Box(P          R      mAP50  mAP50-95): 100%|██████████| 21/21 [00:03<00:00,  6.11it/s]\n"
     ]
    },
    {
     "name": "stdout",
     "output_type": "stream",
     "text": [
      "                   all        655      11450      0.474      0.117      0.118     0.0714\n",
      "\n",
      "      Epoch    GPU_mem   box_loss   cls_loss   dfl_loss  Instances       Size\n"
     ]
    },
    {
     "name": "stderr",
     "output_type": "stream",
     "text": [
      "     96/100      10.3G       1.45      1.701      1.274         29        448: 100%|██████████| 1086/1086 [02:08<00:00,  8.46it/s]\n",
      "                 Class     Images  Instances      Box(P          R      mAP50  mAP50-95): 100%|██████████| 21/21 [00:03<00:00,  6.48it/s]\n"
     ]
    },
    {
     "name": "stdout",
     "output_type": "stream",
     "text": [
      "                   all        655      11450      0.474      0.118      0.119     0.0719\n",
      "\n",
      "      Epoch    GPU_mem   box_loss   cls_loss   dfl_loss  Instances       Size\n"
     ]
    },
    {
     "name": "stderr",
     "output_type": "stream",
     "text": [
      "     97/100      10.3G      1.447      1.696      1.269         12        672: 100%|██████████| 1086/1086 [02:08<00:00,  8.48it/s]\n",
      "                 Class     Images  Instances      Box(P          R      mAP50  mAP50-95): 100%|██████████| 21/21 [00:03<00:00,  6.17it/s]\n"
     ]
    },
    {
     "name": "stdout",
     "output_type": "stream",
     "text": [
      "                   all        655      11450      0.474      0.118      0.119     0.0721\n",
      "\n",
      "      Epoch    GPU_mem   box_loss   cls_loss   dfl_loss  Instances       Size\n"
     ]
    },
    {
     "name": "stderr",
     "output_type": "stream",
     "text": [
      "     98/100      10.3G      1.447      1.696      1.271         27        768: 100%|██████████| 1086/1086 [02:08<00:00,  8.48it/s]\n",
      "                 Class     Images  Instances      Box(P          R      mAP50  mAP50-95): 100%|██████████| 21/21 [00:03<00:00,  5.95it/s]\n"
     ]
    },
    {
     "name": "stdout",
     "output_type": "stream",
     "text": [
      "                   all        655      11450      0.475      0.117      0.119     0.0721\n",
      "\n",
      "      Epoch    GPU_mem   box_loss   cls_loss   dfl_loss  Instances       Size\n"
     ]
    },
    {
     "name": "stderr",
     "output_type": "stream",
     "text": [
      "     99/100      10.3G      1.445      1.698      1.273         42        672: 100%|██████████| 1086/1086 [02:06<00:00,  8.61it/s]\n",
      "                 Class     Images  Instances      Box(P          R      mAP50  mAP50-95): 100%|██████████| 21/21 [00:05<00:00,  3.68it/s]\n"
     ]
    },
    {
     "name": "stdout",
     "output_type": "stream",
     "text": [
      "                   all        655      11450      0.469      0.117      0.119     0.0721\n",
      "\n",
      "      Epoch    GPU_mem   box_loss   cls_loss   dfl_loss  Instances       Size\n"
     ]
    },
    {
     "name": "stderr",
     "output_type": "stream",
     "text": [
      "    100/100      10.3G      1.448      1.695      1.273         16        352: 100%|██████████| 1086/1086 [02:05<00:00,  8.62it/s]\n",
      "                 Class     Images  Instances      Box(P          R      mAP50  mAP50-95): 100%|██████████| 21/21 [00:03<00:00,  6.10it/s]\n"
     ]
    },
    {
     "name": "stdout",
     "output_type": "stream",
     "text": [
      "                   all        655      11450      0.469      0.117      0.119     0.0721\n",
      "\n",
      "100 epochs completed in 3.811 hours.\n",
      "Optimizer stripped from runs/train/exp_fastcache/weights/last.pt, 5.8MB\n",
      "Optimizer stripped from runs/train/exp_fastcache/weights/best.pt, 5.8MB\n",
      "\n",
      "Validating runs/train/exp_fastcache/weights/best.pt...\n",
      "Ultralytics 8.3.146 🚀 Python-3.12.3 torch-2.7.0+cu126 CUDA:0 (NVIDIA GeForce RTX 4090, 24564MiB)\n",
      "YOLO11n summary (fused): 100 layers, 2,728,186 parameters, 0 gradients, 7.1 GFLOPs\n"
     ]
    },
    {
     "name": "stderr",
     "output_type": "stream",
     "text": [
      "                 Class     Images  Instances      Box(P          R      mAP50  mAP50-95): 100%|██████████| 21/21 [00:04<00:00,  4.27it/s]\n"
     ]
    },
    {
     "name": "stdout",
     "output_type": "stream",
     "text": [
      "                   all        655      11450      0.472       0.12      0.118      0.072\n",
      "              Sneakers        283        763      0.289      0.569      0.466      0.289\n",
      "                 Chair         49        106      0.156      0.415      0.146     0.0576\n",
      "           Other Shoes        132        247       0.24      0.599      0.442      0.311\n",
      "                   Car         54         93      0.187      0.452      0.326       0.19\n",
      "                  Lamp         22         39     0.0919      0.205     0.0376       0.02\n",
      "               Glasses        125        237      0.237      0.451      0.323      0.216\n",
      "                Bottle         37         56       0.24      0.339      0.215     0.0849\n",
      "                  Desk        103        221      0.126      0.262      0.105     0.0564\n",
      "                   Cup        180        247      0.268      0.632      0.438      0.287\n",
      "         Street Lights        101        188      0.158      0.207       0.13     0.0783\n",
      "         Cabinet/shelf         20         38       0.27      0.421      0.334      0.203\n",
      "       Handbag/Satchel        213        524      0.246      0.601      0.368      0.228\n",
      "              Bracelet         40         51      0.136      0.196     0.0963     0.0595\n",
      "                 Plate         33         40      0.135      0.075     0.0647      0.031\n",
      "         Picture/Frame         60        136       0.17      0.272     0.0877     0.0542\n",
      "                Helmet         46         59       0.22      0.644      0.446      0.365\n",
      "                  Book          9         24      0.129      0.417      0.318      0.158\n",
      "                Gloves         58         98      0.159      0.235      0.117     0.0557\n",
      "           Storage box          7         12      0.046      0.167      0.103     0.0253\n",
      "                  Boat         57        109     0.0909      0.138     0.0793     0.0525\n",
      "         Leather Shoes          7         12      0.114      0.417      0.213     0.0822\n",
      "                Flower         22         46      0.193      0.261      0.185     0.0893\n",
      "                 Bench         19         26      0.327      0.577      0.462      0.244\n",
      "          Potted Plant         15         23     0.0571      0.087     0.0532     0.0325\n",
      "            Bowl/Basin         24         31      0.288      0.613      0.421      0.185\n",
      "                  Flag         57        124      0.201      0.266      0.164      0.111\n",
      "                Pillow          4         10     0.0907        0.3      0.165      0.137\n",
      "                 Boots         27         56      0.203      0.607      0.337      0.197\n",
      "                  Vase          3          3          0          0    0.00884    0.00453\n",
      "            Microphone         15         17      0.148      0.294        0.2      0.134\n",
      "              Necklace         37         73      0.166      0.123     0.0682     0.0351\n",
      "                  Ring          9          9          0          0     0.0485     0.0291\n",
      "                   SUV          5          6          1          0          0          0\n",
      "            Wine Glass         10         12          0          0    0.00133    0.00104\n",
      "                  Belt          9         23     0.0935       0.13      0.103     0.0772\n",
      "            Monitor/TV          5          6      0.264        0.5      0.505      0.151\n",
      "              Backpack        108        218      0.333      0.702      0.578      0.435\n",
      "              Umbrella          4          4     0.0738       0.25     0.0623     0.0499\n",
      "         Traffic Light         14         45      0.339      0.533      0.389      0.194\n",
      "               Speaker          5         23      0.317      0.063      0.155      0.063\n",
      "                 Watch        100        265      0.432      0.423      0.402      0.256\n",
      "                   Tie         15         21      0.575      0.238       0.23      0.124\n",
      "         Trash bin Can         17         39      0.342      0.205       0.18     0.0536\n",
      "              Slippers         45         56      0.222      0.268      0.177      0.132\n",
      "               Bicycle         11         17     0.0809     0.0588     0.0621     0.0343\n",
      "                 Stool          6         11      0.259      0.455      0.205     0.0872\n",
      "         Barrel/bucket         53        131      0.452       0.39      0.346      0.251\n",
      "                   Van         49        142      0.388      0.211      0.189      0.116\n",
      "                 Couch          8         15      0.386     0.0667     0.0786      0.054\n",
      "               Sandals         13         21      0.425      0.476      0.463       0.36\n",
      "                Basket         11         20      0.369       0.15      0.134     0.0897\n",
      "                  Drum         72        193      0.263     0.0622     0.0988     0.0577\n",
      "            Pen/Pencil         22         60      0.197       0.35      0.277      0.155\n",
      "                   Bus         44         86      0.359      0.105     0.0861     0.0468\n",
      "             Wild Bird          4         12      0.179      0.147     0.0577     0.0339\n",
      "            High Heels         14         45     0.0525        0.2     0.0755     0.0549\n",
      "            Motorcycle          5         10      0.176        0.1      0.143     0.0894\n",
      "                Guitar          9         13      0.109     0.0758     0.0419     0.0289\n",
      "                Carpet         26         52      0.231      0.135       0.11     0.0494\n",
      "            Cell Phone         59         72      0.263        0.5      0.373      0.255\n",
      "                 Bread         30         40      0.174       0.05     0.0618     0.0459\n",
      "                Camera         32        106     0.0638     0.0189     0.0199     0.0123\n",
      "                Canned         11         21          0          0     0.0108    0.00494\n",
      "                 Truck         23         56       0.27     0.0893      0.111     0.0773\n",
      "          Traffic cone          7         18       0.15     0.0556     0.0421     0.0362\n",
      "                Cymbal          5         14      0.455      0.123      0.166      0.079\n",
      "             Lifesaver         19         38       0.25      0.289      0.201      0.103\n",
      "                 Towel          5         40          1          0     0.0169     0.0121\n",
      "           Stuffed Toy         62        115      0.315      0.252      0.221      0.157\n",
      "                Candle          9         45        0.1     0.0444     0.0283     0.0107\n",
      "              Sailboat          5          9      0.525      0.222      0.244      0.159\n",
      "                Laptop          1          9      0.361      0.193      0.212     0.0928\n",
      "                Awning         39         62      0.205      0.419      0.237       0.16\n",
      "                Faucet         33         41      0.451      0.707       0.65      0.483\n",
      "                  Tent         97        148      0.187      0.324      0.196     0.0905\n",
      "                 Horse          1          1          0          0          0          0\n",
      "                Mirror          9         31      0.247      0.548      0.346      0.174\n",
      "          Power outlet         55         67      0.332      0.497      0.409      0.259\n",
      "                  Sink         50         60      0.216      0.167      0.133     0.0784\n",
      "                 Apple         97        136      0.257      0.346      0.245      0.137\n",
      "       Air Conditioner         32        103     0.0881     0.0194     0.0142    0.00938\n",
      "                 Knife          9         10      0.366        0.1      0.148     0.0766\n",
      "          Hockey Stick         24         33     0.0833     0.0606     0.0203    0.00756\n",
      "                Paddle          1          3      0.521      0.333      0.449      0.404\n",
      "          Pickup Truck          1          3          0          0    0.00161   0.000483\n",
      "                  Fork          5          5      0.663        0.4      0.332      0.285\n",
      "          Traffic Sign          5         13      0.209      0.231      0.176     0.0882\n",
      "               Balloon          1          4          0          0          0          0\n",
      "                Tripod          4         18      0.355      0.278      0.243      0.178\n",
      "                   Dog         27         68      0.156      0.176     0.0924     0.0237\n",
      "                 Spoon          8         10       0.06        0.1     0.0108    0.00786\n",
      "                 Clock          6         17      0.244      0.118      0.169     0.0897\n",
      "                   Pot         16         16      0.484      0.812       0.74      0.542\n",
      "                   Cow         25         55      0.399      0.255      0.249      0.132\n",
      "                  Cake          4         14     0.0952      0.429     0.0689     0.0291\n",
      "          Dining Table          9         26          0          0     0.0216     0.0114\n",
      "                Hanger          4         10          0          0          0          0\n",
      " Blackboard/Whiteboard         16         70     0.0526     0.0143     0.0325    0.00939\n",
      "                Napkin         21         50      0.295        0.3      0.299      0.251\n",
      "            Other Fish          2         15          1          0          0          0\n",
      "      Orange/Tangerine         34        326      0.242     0.0276     0.0546     0.0298\n",
      "              Toiletry         15         49          1          0     0.0216     0.0172\n",
      "              Keyboard         42        117      0.447     0.0211      0.143     0.0891\n",
      "                Tomato         85        134      0.338      0.552      0.425      0.256\n",
      "               Lantern         24         57          1          0     0.0805     0.0533\n",
      "     Machinery Vehicle         11        120          1     0.0557      0.321      0.136\n",
      "                   Fan         10         25      0.532     0.0928      0.141     0.0673\n",
      "      Green Vegetables         21         39      0.496      0.231      0.241      0.158\n",
      "                Banana          3          3          0          0          0          0\n",
      "        Baseball Glove         21         57          1          0    0.00327    0.00098\n",
      "              Airplane          1          5          1          0      0.182     0.0918\n",
      "                 Mouse          6         33      0.571      0.182      0.219      0.113\n",
      "                 Train         89        135      0.454        0.4      0.368       0.23\n",
      "               Pumpkin          3         13      0.251      0.308      0.255      0.167\n",
      "                Soccer         11         42      0.171     0.0238     0.0845     0.0589\n",
      "              Skiboard          3         28          0          0     0.0116    0.00699\n",
      "               Luggage          1          5          1          0          0          0\n",
      "            Nightstand          5          7      0.691      0.286      0.326      0.137\n",
      "               Tea pot         17         30      0.517        0.7      0.662       0.41\n",
      "             Telephone         27         42      0.188      0.138     0.0953     0.0686\n",
      "               Trolley         39         43      0.288      0.302      0.177      0.113\n",
      "            Head Phone         15         43      0.281     0.0465      0.114     0.0538\n",
      "            Sports Car         28         39          0          0      0.087     0.0423\n",
      "             Stop Sign         11         56      0.878      0.214      0.534      0.414\n",
      "               Scooter         12        146          1          0     0.0304     0.0185\n",
      "                 Crane          4         18          0          0     0.0539     0.0316\n",
      "                Remote          1          7          1          0          0          0\n",
      "          Refrigerator         28         41      0.168     0.0123     0.0892     0.0547\n",
      "                  Oven         33         36      0.257        0.5      0.473      0.345\n",
      "                 Lemon         39         41      0.217      0.561      0.273      0.132\n",
      "                  Duck         16         36          1          0     0.0396     0.0193\n",
      "          Baseball Bat         11         95          1          0      0.141      0.113\n",
      "   Surveillance Camera          1          2          1          0          0          0\n",
      "                   Cat          3          3          1          0      0.341      0.205\n",
      "                   Jug          5          5      0.645        0.2      0.276      0.202\n",
      "                 Piano         13         19          1          0          0          0\n",
      "                 Pizza         18         24     0.0928     0.0833      0.058     0.0353\n",
      "              Elephant          6         21          0          0      0.158      0.095\n",
      "            Skateboard          3         12          1          0      0.328      0.204\n",
      "             Surfboard          1          2          1          0          0          0\n",
      "                   Gun          1          2          1          0          0          0\n",
      "             Gas stove          3         20      0.418       0.25      0.289      0.166\n",
      "                 Donut         38         38       0.12      0.184      0.132     0.0535\n",
      "               Bow Tie          2         30          0          0          0          0\n",
      "                Carrot          2          2          1          0      0.501        0.2\n",
      "                Toilet          8         10          1          0          0          0\n",
      "                  Kite         28         30      0.308        0.5      0.354      0.248\n",
      "           Other Balls          8          9          1          0          0          0\n",
      "                Pepper         14         30      0.818     0.0333     0.0637     0.0428\n",
      "          Computer Box         14         41          1          0          0          0\n",
      "          Toilet Paper         54         98      0.365      0.153      0.162     0.0987\n",
      "     Cleaning Products         24         29      0.275     0.0285      0.138     0.0918\n",
      "            Chopsticks         28         64          0          0     0.0438     0.0311\n",
      "             Microwave          5         16          1          0          0          0\n",
      "                Pigeon         26         32       0.62      0.688      0.656       0.41\n",
      "              Baseball          5         32          1          0     0.0996     0.0479\n",
      "Cutting/chopping Board          1          6          0          0          0          0\n",
      "          Coffee Table         11         17          1          0     0.0154     0.0113\n",
      "              Scissors          2          2          1          0     0.0884     0.0796\n",
      "                Marker         14         16          1          0          0          0\n",
      "                   Pie          7         23          0          0          0          0\n",
      "                Ladder          6         32          1          0     0.0726     0.0495\n",
      "             Snowboard          6          8          0          0      0.045      0.025\n",
      "               Cookies          2         12          1          0          0          0\n",
      "              Radiator          8         15          0          0    0.00892    0.00391\n",
      "          Fire Hydrant          6          6      0.142      0.167     0.0613     0.0463\n",
      "                 Zebra          3         10          0          0     0.0176     0.0123\n",
      "                 Grape          1         12          1          0          0          0\n",
      "               Giraffe         13         23          0          0      0.027     0.0166\n",
      "               Sausage          8         13          1          0          0          0\n",
      "              Tricycle          5         18          1          0          0          0\n",
      "                Violin          1          1          1          0      0.995      0.796\n",
      "                   Egg          6         22          1          0          0          0\n",
      "     Fire Extinguisher          2          2          1          0          0          0\n",
      "                 Candy          8          8          0          0     0.0453     0.0194\n",
      "            Fire Truck          4         32          0          0          0          0\n",
      "             Billiards          2         12      0.263     0.0906      0.174     0.0944\n",
      "             Converter          7         46      0.602      0.217      0.371      0.211\n",
      "               Bathtub         37         60          1          0     0.0206     0.0125\n",
      "            Wheelchair         19         21     0.0659     0.0952     0.0723     0.0397\n",
      "             Briefcase          3          6          1          0     0.0686     0.0336\n",
      "              Cucumber          3          3          1          0     0.0358     0.0286\n",
      "       Cigar/Cigarette         12         17          1          0          0          0\n",
      "           Paint Brush          2          2          0          0          0          0\n",
      "                  Pear          6          9          0          0     0.0151    0.00753\n",
      "           Heavy Truck         10         15          1          0          0          0\n",
      "             Extractor          4         23          1          0     0.0946     0.0367\n",
      "        Extension Cord         34         35      0.392      0.499      0.471      0.339\n",
      "                  Tong         31         36          1          0     0.0281    0.00832\n",
      "         Tennis Racket         10         14          0          0     0.0196    0.00589\n",
      "     American Football          4         15          1          0     0.0513     0.0303\n",
      "              earphone          2          3          1          0          0          0\n",
      "                  Mask          7         16          0          0          0          0\n",
      "                Kettle          2          2          1          0          0          0\n",
      "                Tennis          4          4       0.13       0.25      0.177       0.15\n",
      "                 Swing          1          1          0          0          0          0\n",
      "        Coffee Machine          1          2          1          0          0          0\n",
      "                 Slide         19         29      0.391      0.354      0.344      0.227\n",
      "              Carriage          5         10          1          0     0.0463     0.0151\n",
      "                 Onion          5          9      0.482       0.21      0.288      0.179\n",
      "           Green beans          8         12          1          0          0          0\n",
      "             Projector         10         11          1          0          0          0\n",
      "               Frisbee         10         12      0.541        0.5      0.533      0.247\n",
      "               Chicken         34         95      0.371      0.242      0.253      0.143\n",
      "               Printer          4         17          1          0          0          0\n",
      "            Watermelon         23         33      0.349      0.333      0.263      0.137\n",
      "             Saxophone          4          4          1          0          0          0\n",
      "                Tissue          8         18          1          0          0          0\n",
      "            Toothbrush          8         10          0          0          0          0\n",
      "             Ice cream         10         28          0          0          0          0\n",
      "       Hot-air balloon          1          2          1          0     0.0544     0.0109\n",
      "          French Fries          9         22          1          0       0.16     0.0586\n",
      "                 Scale          4         10          1          0          0          0\n",
      "                Trophy         11         13          1          0          0          0\n",
      "               Cabbage          1          4          1          0          0          0\n",
      "               Hot dog         10         13          1          0          0          0\n",
      "               Blender          2          4          1          0          0          0\n",
      "                 Peach          6          9          0          0     0.0689     0.0324\n",
      "                  Rice          8         28          1          0          0          0\n",
      "          Wallet/Purse          1          2          1          0          0          0\n",
      "            Volleyball          3          4          1          0          0          0\n",
      "                  Deer          2          5          1          0     0.0533     0.0373\n",
      "                 Goose         14         71          1          0     0.0707     0.0275\n",
      "                  Tape         16        130      0.531     0.0308      0.143     0.0651\n",
      "                Tablet         12         13          1          0          0          0\n",
      "             Cosmetics          7          8          1          0     0.0111    0.00776\n",
      "             Pineapple          5         10          1          0          0          0\n",
      "             Golf Ball          9         26          1          0          0          0\n",
      "             Ambulance          2          6          0          0       0.13     0.0674\n",
      "                   Key          7         16          0          0          0          0\n",
      "                Hurdle          4          5          1          0          0          0\n",
      "                 Medal          2         14          1          0      0.197      0.121\n",
      "                 Brush          2          3          1          0          0          0\n",
      "               Penguin          7         11          1          0     0.0168    0.00784\n",
      "             Megaphone          7         65          0          0          0          0\n",
      "                  Corn          5         11          1          0          0          0\n",
      "               Lettuce          2          4          1          0          0          0\n",
      "                Garlic          2          3          1          0          0          0\n",
      "                  Swan          4          4          1          0          0          0\n",
      "            Helicopter          4         15          1          0          0          0\n",
      "           Green Onion          2          4       0.23        0.5      0.385      0.139\n",
      "              Sandwich          2          2          0          0          0          0\n",
      "                  Nuts          3          3          0          0          0          0\n",
      "      Speed Limit Sign          1          1          1          0          0          0\n",
      "                 Broom          8          9          1          0     0.0105    0.00527\n",
      "              Trombone          2          2          1          0          0          0\n",
      "                  Plum          8         13          1          0          0          0\n",
      "              Rickshaw         12         19          1          0          0          0\n",
      "              Goldfish          1          1          1          0      0.111     0.0884\n",
      "            Kiwi fruit          9         97          1          0          0          0\n",
      "          Router/modem          7          9          1          0          0          0\n",
      "            Poker Card         26         32          1          0        0.1     0.0526\n",
      "                Shrimp         14         15      0.179      0.267      0.153      0.108\n",
      "                Cheese          2         33          0          0          0          0\n",
      "             Notepaper          6         25          1          0      0.044      0.022\n",
      "                Cherry          5          5          1          0      0.471      0.332\n",
      "                Pliers          4          6          0          0          0          0\n",
      "                    CD          6         19          1          0          0          0\n",
      "                 Pasta         14         20          1          0          0          0\n",
      "                Hammer          1          1          1          0          0          0\n",
      "                   Cue          5          9          0          0          0          0\n",
      "               Avocado          6         10          0          0     0.0519     0.0284\n",
      "            Hami melon          3          3          0          0          0          0\n",
      "                 Flask          5          9          0          0          0          0\n",
      "           Screwdriver          3         15          0          0          0          0\n",
      "                  Soap          8         20          0          0          0          0\n",
      "              Recorder          7          8          0          0          0          0\n",
      "                  Bear          4          5          1          0      0.233      0.111\n",
      "              Eggplant          1          2          0          0          0          0\n",
      "          Board Eraser          8         19          1          0    0.00712    0.00569\n",
      "               Coconut          4          5          0          0      0.011    0.00882\n",
      "    Tape Measure/Ruler          3         24          1          0          0          0\n",
      "                   Pig          6          9          1          0          0          0\n",
      "                 Steak          1          1          1          0          0          0\n",
      "                 Camel         11         12          1          0     0.0326     0.0246\n",
      "           Rice Cooker          1          1          1          0          0          0\n",
      "                  Tuba          3          3          1          0      0.046     0.0414\n",
      "            Calculator          3          5          0          0          0          0\n",
      "                Papaya          3          3          1          0     0.0272     0.0191\n",
      "              Antelope          3          3          1          0          0          0\n",
      "                Parrot          1          7          0          0          0          0\n",
      "                Donkey          3          6          0          0          0          0\n",
      "                  Lion          2          7          1          0     0.0547     0.0281\n",
      "        Electric Drill          1          2          1          0     0.0206    0.00412\n",
      "            Hair Dryer          4          4          0          0          0          0\n",
      "              Egg tart          9         12          0          0          0          0\n",
      "             Treadmill          4         49          0          0          0          0\n",
      "            Grapefruit          1          1          0          0          0          0\n",
      "            Game board          4          6          0          0          0          0\n",
      "                   Mop          1          1          0          0          0          0\n",
      "                Radish          2          4          1          0          0          0\n",
      "                 Baozi          9         11          0          0          0          0\n",
      "          Spring Rolls          2          2          0          0          0          0\n",
      "                Monkey          4          8          0          0          0          0\n",
      "                Rabbit          1         20          0          0          0          0\n",
      "           Pencil Case          2          3          0          0          0          0\n",
      "                   Yak          3          3          1          0          0          0\n",
      "           Red Cabbage          1          3          0          0          0          0\n",
      "            Binoculars          2          2          0          0          0          0\n",
      "             Asparagus          1          1          0          0          0          0\n",
      "               Scallop          1          1          0          0          0          0\n",
      "               Lobster          1          1          0          0          0          0\n",
      "Speed: 0.1ms preprocess, 0.4ms inference, 0.0ms loss, 1.6ms postprocess per image\n",
      "✅ Risultati di addestramento salvati in 'results/training_results_1_b.txt' e 'results/training_results_1_b.json'\n"
     ]
    }
   ],
   "source": [
    "import json\n",
    "from ultralytics import YOLO\n",
    "\n",
    "prev_letter_patch = 'a' if letter_patch == 'b' else 'b'\n",
    "prev_traking_number = traking_number - 1 if letter_patch == 'a' else traking_number\n",
    "\n",
    "if traking_number == 0 and letter_patch == 'a':\n",
    "    train_params[\"resume\"] = False  # Non riprendo da un modello precedente\n",
    "    model = YOLO(\"yolo11n.pt\")  # Load a pretrained model (recommended for training)\n",
    "else:\n",
    "    train_params[\"resume\"] = False\n",
    "    model = YOLO(f\"results/best_model_{prev_traking_number}_{prev_letter_patch}.pt\")  # Load a pretrained model (recommended for training)\n",
    "    \n",
    "# Addestra il modello con gli aumenti dei dati\n",
    "results = model.train(**train_params)\n",
    "# Crea la cartella 'results' se non esiste\n",
    "# Percorso per salvare i file\n",
    "output_dir = \"results\"\n",
    "os.makedirs(output_dir, exist_ok=True)\n",
    "\n",
    "model.save(f\"{output_dir}/best_model_{traking_number}_{letter_patch}.pt\")  # Salva il modello addestrato\n",
    "\n",
    "# Nome base dei file\n",
    "filename = f\"{output_dir}/training_results_{traking_number}_{letter_patch}\"\n",
    "\n",
    "# Salvataggio in TXT\n",
    "metrics = results.results_dict if hasattr(results, \"results_dict\") else {}\n",
    "with open(f\"{filename}.txt\", \"w\") as f:\n",
    "    f.write(f\"Training {traking_number}_{letter_patch} Results:\\n\")\n",
    "    f.write(f\"mAP50: {metrics.get('mAP50', 0.0):.4f}\\n\")\n",
    "    f.write(f\"mAP50-95: {metrics.get('mAP50-95', 0.0):.4f}\\n\")\n",
    "    f.write(f\"Precision: {metrics.get('precision', 0.0):.4f}\\n\")\n",
    "    f.write(f\"Recall: {metrics.get('recall', 0.0):.4f}\\n\")\n",
    "    f.write(f\"Training Time: {metrics.get('training_time', 'N/A')}\\n\")\n",
    "\n",
    "# Salvataggio in JSON SOLO delle metriche\n",
    "with open(f\"{filename}.json\", \"w\") as f_json:\n",
    "    json.dump(metrics, f_json, indent=4)\n",
    "\n",
    "print(f\"✅ Risultati di addestramento salvati in '{filename}.txt' e '{filename}.json'\")\n"
   ]
  },
  {
   "cell_type": "code",
   "execution_count": null,
   "id": "8a4a339f",
   "metadata": {},
   "outputs": [
    {
     "name": "stdout",
     "output_type": "stream",
     "text": [
      "✅ Risultati di addestramento salvati in 'results/training_results_1.txt' e 'results/training_results_1.json'\n"
     ]
    }
   ],
   "source": []
  },
  {
   "cell_type": "markdown",
   "id": "2e8b7be6",
   "metadata": {},
   "source": [
    "## ✅ Step 3 – Validazione del Modello"
   ]
  },
  {
   "cell_type": "code",
   "execution_count": null,
   "id": "b39de4f4",
   "metadata": {},
   "outputs": [],
   "source": [
    "print(model.info())"
   ]
  },
  {
   "cell_type": "code",
   "execution_count": null,
   "id": "5087d409",
   "metadata": {},
   "outputs": [],
   "source": [
    "import os\n",
    "from ultralytics import YOLO\n",
    "import json\n",
    "\n",
    "# Path al file di pesi salvati\n",
    "weights_path = \"results/best_model_0.pt\"\n",
    "\n",
    "# ----------------------------\n",
    "# 1. Determina se 'model' è già in memoria\n",
    "# ----------------------------\n",
    "try:\n",
    "    # Prova ad accedere a `model`; se non esiste, scatena NameError\n",
    "    _ = model\n",
    "    in_ram = True\n",
    "except NameError:\n",
    "    in_ram = False\n",
    "\n",
    "# ----------------------------\n",
    "# 2. Scegli l'oggetto YOLO per la validazione\n",
    "# ----------------------------\n",
    "if in_ram:\n",
    "    print(\"✔️ Modello già in RAM: lo uso per la validazione\")\n",
    "    model_to_val = model\n",
    "elif os.path.exists(weights_path):\n",
    "    print(f\"✔️ Carico modello da disco: {weights_path}\")\n",
    "    model_to_val = YOLO(weights_path)\n",
    "else:\n",
    "    raise FileNotFoundError(f\"Né modello in RAM né file trovato: {weights_path}\")\n",
    "\n",
    "\n",
    "# Esegui la validazione\n",
    "val_results = model_to_val.val(\n",
    "    data=data_yaml,\n",
    "    imgsz=640,\n",
    "    batch=16,\n",
    "    device=0,\n",
    "    save=True\n",
    ")\n",
    "\n",
    "# Crea la cartella dei risultati\n",
    "os.makedirs(\"results\", exist_ok=True)\n",
    "\n",
    "# Ottieni il dizionario con le metriche\n",
    "metrics = val_results.results_dict\n",
    "\n",
    "\n",
    "filename = \"results/validation_results_step_0\"\n",
    "\n",
    "# Stampa tutte le chiavi disponibili per debug (facoltativo)\n",
    "print(\"Chiavi disponibili in results_dict:\")\n",
    "for k in metrics:\n",
    "    print(f\"- {k}\")\n",
    "\n",
    "# Salvataggio in TXT\n",
    "with open(f\"{filename}.txt\", \"w\") as f:\n",
    "    f.write(\"Validation Results:\\n\")\n",
    "    f.write(f\"mAP50: {metrics.get('mAP50', 0.0):.4f}\\n\")\n",
    "    f.write(f\"mAP50-95: {metrics.get('mAP50-95', 0.0):.4f}\\n\")\n",
    "    f.write(f\"Precision: {metrics.get('precision', 0.0):.4f}\\n\")\n",
    "    f.write(f\"Recall: {metrics.get('recall', 0.0):.4f}\\n\")\n",
    "    f.write(f\"Inference Speed: {val_results.speed.get('inference', 0.0):.2f} ms/img\\n\")\n",
    "\n",
    "# Salvataggio in JSON\n",
    "with open(f\"{filename}.json\", \"w\") as f_json:\n",
    "    json.dump(metrics, f_json, indent=4)\n",
    "\n",
    "print(f\"✅ Risultati salvati in '{filename}.txt' e '{filename}.json'\")\n"
   ]
  }
 ],
 "metadata": {
  "kernelspec": {
   "display_name": ".venv",
   "language": "python",
   "name": "python3"
  },
  "language_info": {
   "codemirror_mode": {
    "name": "ipython",
    "version": 3
   },
   "file_extension": ".py",
   "mimetype": "text/x-python",
   "name": "python",
   "nbconvert_exporter": "python",
   "pygments_lexer": "ipython3",
   "version": "3.12.3"
  }
 },
 "nbformat": 4,
 "nbformat_minor": 5
}
